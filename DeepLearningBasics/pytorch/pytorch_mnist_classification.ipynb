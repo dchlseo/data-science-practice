{
  "nbformat": 4,
  "nbformat_minor": 0,
  "metadata": {
    "colab": {
      "provenance": [],
      "gpuType": "T4",
      "authorship_tag": "ABX9TyNH9kIp6FjiXS71Sg+bTB/C",
      "include_colab_link": true
    },
    "kernelspec": {
      "name": "python3",
      "display_name": "Python 3"
    },
    "language_info": {
      "name": "python"
    },
    "accelerator": "GPU"
  },
  "cells": [
    {
      "cell_type": "markdown",
      "metadata": {
        "id": "view-in-github",
        "colab_type": "text"
      },
      "source": [
        "<a href=\"https://colab.research.google.com/github/dchlseo/data-science-practice/blob/main/DeepLearningBasics/pytorch/pytorch_mnist_classification.ipynb\" target=\"_parent\"><img src=\"https://colab.research.google.com/assets/colab-badge.svg\" alt=\"Open In Colab\"/></a>"
      ]
    },
    {
      "cell_type": "code",
      "execution_count": 1,
      "metadata": {
        "id": "yu67gKPODExc"
      },
      "outputs": [],
      "source": [
        "import torch\n",
        "import torch.nn as nn\n",
        "import torch.nn.functional as F\n",
        "import torch.optim as optim\n",
        "from torchvision import datasets, transforms\n",
        "\n",
        "from matplotlib import pyplot as plt\n",
        "%matplotlib inline"
      ]
    },
    {
      "cell_type": "code",
      "source": [
        "is_cuda = torch.cuda.is_available()\n",
        "device = torch.device('cuda' if is_cuda else 'cpu')\n",
        "print('current cuda device is', device)"
      ],
      "metadata": {
        "colab": {
          "base_uri": "https://localhost:8080/"
        },
        "id": "wRY9BETKDZ7B",
        "outputId": "982c053a-5f1f-4bd0-efee-351ece35c7e0"
      },
      "execution_count": 3,
      "outputs": [
        {
          "output_type": "stream",
          "name": "stdout",
          "text": [
            "current cuda device is cuda\n"
          ]
        }
      ]
    },
    {
      "cell_type": "code",
      "source": [
        "batch_size = 50  # n = 60000 / 50 = 1200\n",
        "learning_rate = 0.0001\n",
        "epoch_num = 15"
      ],
      "metadata": {
        "id": "9K764HMKDmD1"
      },
      "execution_count": 4,
      "outputs": []
    },
    {
      "cell_type": "code",
      "source": [
        "train_data = datasets.MNIST(root = './dataset',\n",
        "               train = True,\n",
        "               download = True,\n",
        "               transform = transforms.ToTensor())\n",
        "test_data = datasets.MNIST(root = './dataset',\n",
        "               train = False,\n",
        "               transform = transforms.ToTensor())\n",
        "\n",
        "print('training set: ', len(train_data))\n",
        "print('training set: ', len(test_data))"
      ],
      "metadata": {
        "colab": {
          "base_uri": "https://localhost:8080/"
        },
        "id": "Nb8OKz8qD7a1",
        "outputId": "6d54cc83-8bb7-4ce3-d51d-479d1b327db0"
      },
      "execution_count": 5,
      "outputs": [
        {
          "output_type": "stream",
          "name": "stdout",
          "text": [
            "Downloading http://yann.lecun.com/exdb/mnist/train-images-idx3-ubyte.gz\n",
            "Downloading http://yann.lecun.com/exdb/mnist/train-images-idx3-ubyte.gz to ./dataset/MNIST/raw/train-images-idx3-ubyte.gz\n"
          ]
        },
        {
          "output_type": "stream",
          "name": "stderr",
          "text": [
            "100%|██████████| 9912422/9912422 [00:00<00:00, 191677053.29it/s]"
          ]
        },
        {
          "output_type": "stream",
          "name": "stdout",
          "text": [
            "Extracting ./dataset/MNIST/raw/train-images-idx3-ubyte.gz to ./dataset/MNIST/raw\n"
          ]
        },
        {
          "output_type": "stream",
          "name": "stderr",
          "text": [
            "\n"
          ]
        },
        {
          "output_type": "stream",
          "name": "stdout",
          "text": [
            "\n",
            "Downloading http://yann.lecun.com/exdb/mnist/train-labels-idx1-ubyte.gz\n",
            "Downloading http://yann.lecun.com/exdb/mnist/train-labels-idx1-ubyte.gz to ./dataset/MNIST/raw/train-labels-idx1-ubyte.gz\n"
          ]
        },
        {
          "output_type": "stream",
          "name": "stderr",
          "text": [
            "100%|██████████| 28881/28881 [00:00<00:00, 13443091.09it/s]\n"
          ]
        },
        {
          "output_type": "stream",
          "name": "stdout",
          "text": [
            "Extracting ./dataset/MNIST/raw/train-labels-idx1-ubyte.gz to ./dataset/MNIST/raw\n",
            "\n",
            "Downloading http://yann.lecun.com/exdb/mnist/t10k-images-idx3-ubyte.gz\n",
            "Downloading http://yann.lecun.com/exdb/mnist/t10k-images-idx3-ubyte.gz to ./dataset/MNIST/raw/t10k-images-idx3-ubyte.gz\n"
          ]
        },
        {
          "output_type": "stream",
          "name": "stderr",
          "text": [
            "100%|██████████| 1648877/1648877 [00:00<00:00, 43521354.47it/s]\n"
          ]
        },
        {
          "output_type": "stream",
          "name": "stdout",
          "text": [
            "Extracting ./dataset/MNIST/raw/t10k-images-idx3-ubyte.gz to ./dataset/MNIST/raw\n",
            "\n",
            "Downloading http://yann.lecun.com/exdb/mnist/t10k-labels-idx1-ubyte.gz\n",
            "Downloading http://yann.lecun.com/exdb/mnist/t10k-labels-idx1-ubyte.gz to ./dataset/MNIST/raw/t10k-labels-idx1-ubyte.gz\n"
          ]
        },
        {
          "output_type": "stream",
          "name": "stderr",
          "text": [
            "100%|██████████| 4542/4542 [00:00<00:00, 15350949.85it/s]\n"
          ]
        },
        {
          "output_type": "stream",
          "name": "stdout",
          "text": [
            "Extracting ./dataset/MNIST/raw/t10k-labels-idx1-ubyte.gz to ./dataset/MNIST/raw\n",
            "\n",
            "training set:  60000\n",
            "training set:  10000\n"
          ]
        }
      ]
    },
    {
      "cell_type": "code",
      "source": [
        "image, label = train_data[0]\n",
        "print('image shape: ', image.shape) # [1, 28, 28]\n",
        "plt.imshow(image.squeeze().numpy(), cmap = 'gray') # squeeze: [1, 28, 28] -> [28, 28]\n",
        "plt.title('label : %s' % label)\n",
        "plt.show()"
      ],
      "metadata": {
        "colab": {
          "base_uri": "https://localhost:8080/",
          "height": 469
        },
        "id": "w0yKERhAFG3R",
        "outputId": "c8826f75-5661-4a04-fb6a-e99ead58d61c"
      },
      "execution_count": 7,
      "outputs": [
        {
          "output_type": "stream",
          "name": "stdout",
          "text": [
            "image shape:  torch.Size([1, 28, 28])\n"
          ]
        },
        {
          "output_type": "display_data",
          "data": {
            "text/plain": [
              "<Figure size 640x480 with 1 Axes>"
            ],
            "image/png": "[encoded data removed]"
          },
          "metadata": {}
        }
      ]
    },
    {
      "cell_type": "code",
      "source": [
        "# configure mini batch\n",
        "train_loader = torch.utils.data.DataLoader(dataset=train_data,\n",
        "                            batch_size=batch_size,\n",
        "                            shuffle=True)\n",
        "test_loader = torch.utils.data.DataLoader(dataset=test_data,\n",
        "                            batch_size=batch_size,\n",
        "                            shuffle=True)\n",
        "first_batch = train_loader.__iter__().__next__()"
      ],
      "metadata": {
        "id": "AU5tgzsJFQOi"
      },
      "execution_count": 8,
      "outputs": []
    },
    {
      "cell_type": "code",
      "source": [
        "print('{:15s} | {:<25s} | {}' .format('name', 'type', 'size'))\n",
        "print('{:15s} | {:<25s} | {}' .format('batch number', '', len(train_loader)))\n",
        "print('{:15s} | {:<25s} | {}' .format('first_batch', str(type(first_batch)), len(first_batch)))\n",
        "print('{:15s} | {:<25s} | {}' .format('first_batch[0]', str(type(first_batch[0])), first_batch[0].shape))\n",
        "print('{:15s} | {:<25s} | {}' .format('first_batch[1]', str(type(first_batch[1])), first_batch[1].shape))"
      ],
      "metadata": {
        "colab": {
          "base_uri": "https://localhost:8080/"
        },
        "id": "JCVnNvWaJjJE",
        "outputId": "f4f6f715-54c9-4c41-ad71-85537199af95"
      },
      "execution_count": 15,
      "outputs": [
        {
          "output_type": "stream",
          "name": "stdout",
          "text": [
            "name            | type                      | size\n",
            "batch number    |                           | 1200\n",
            "first_batch     | <class 'list'>            | 2\n",
            "first_batch[0]  | <class 'torch.Tensor'>    | torch.Size([50, 1, 28, 28])\n",
            "first_batch[1]  | <class 'torch.Tensor'>    | torch.Size([50])\n"
          ]
        }
      ]
    },
    {
      "cell_type": "code",
      "source": [
        "# CNN\n",
        "\n",
        "class CNN(nn.Module):\n",
        "  def __init__(self):\n",
        "    super(CNN, self).__init__()\n",
        "    self.conv1 = nn.Conv2d(1, 32, 3, 1, padding='same')\n",
        "    self.conv2 = nn.Conv2d(32, 64, 3, 1, padding='same')\n",
        "    self.dropout = nn.Dropout2d(0.25)\n",
        "    self.fc1 = nn.Linear(3136, 1000) # 7*7*64 | input/outputs of dense (fully-connected) layers\n",
        "    self.fc2 = nn.Linear(1000, 10)\n",
        "\n",
        "  def forward(self, x):\n",
        "    x = self.conv1(x)\n",
        "    x = F.relu(x)\n",
        "    x = F.max_pool2d(x, 2)\n",
        "    x = self.conv2(x)\n",
        "    x = F.relu(x)\n",
        "    x = F.max_pool2d(x,2)\n",
        "    x = self.dropout(x)\n",
        "    x = torch.flatten(x, 1)\n",
        "    x = self.fc1(x)\n",
        "    x = F.relu(x)\n",
        "    x = self.fc2(x)\n",
        "    output = F.log_softmax(x, dim=1)\n",
        "    return output\n"
      ],
      "metadata": {
        "id": "0SQXOk7xJlUN"
      },
      "execution_count": 22,
      "outputs": []
    },
    {
      "cell_type": "code",
      "source": [
        "model = CNN().to(device)\n",
        "optimizer = optim.Adam(model.parameters(), lr=learning_rate)\n",
        "criterion = nn.CrossEntropyLoss()"
      ],
      "metadata": {
        "id": "LRBM-rYYLJq6"
      },
      "execution_count": 23,
      "outputs": []
    },
    {
      "cell_type": "code",
      "source": [
        "model.train() # training mode\n",
        "i = 1\n",
        "for epoch in range(epoch_num):\n",
        "  for data, target in train_loader:\n",
        "    data = data.to(device)\n",
        "    target = target.to(device)\n",
        "    optimizer.zero_grad()\n",
        "    output = model(data)\n",
        "    loss = criterion(output, target)\n",
        "    loss.backward()\n",
        "    optimizer.step()\n",
        "    if i % 1000 == 0:\n",
        "      print('TRAIN STEP: {}\\tLOSS: {: .3f}'.format(i, loss.item()))\n",
        "    i += 1"
      ],
      "metadata": {
        "colab": {
          "base_uri": "https://localhost:8080/"
        },
        "id": "rfGKN1dvLM4w",
        "outputId": "fcc736fc-f262-4d55-a304-1cb80def9e22"
      },
      "execution_count": 26,
      "outputs": [
        {
          "output_type": "stream",
          "name": "stdout",
          "text": [
            "TRAIN STEP: 1000\tLOSS:  0.124\n",
            "TRAIN STEP: 2000\tLOSS:  0.099\n",
            "TRAIN STEP: 3000\tLOSS:  0.025\n",
            "TRAIN STEP: 4000\tLOSS:  0.039\n",
            "TRAIN STEP: 5000\tLOSS:  0.037\n",
            "TRAIN STEP: 6000\tLOSS:  0.021\n",
            "TRAIN STEP: 7000\tLOSS:  0.024\n",
            "TRAIN STEP: 8000\tLOSS:  0.021\n",
            "TRAIN STEP: 9000\tLOSS:  0.014\n",
            "TRAIN STEP: 10000\tLOSS:  0.013\n",
            "TRAIN STEP: 11000\tLOSS:  0.056\n",
            "TRAIN STEP: 12000\tLOSS:  0.061\n",
            "TRAIN STEP: 13000\tLOSS:  0.000\n",
            "TRAIN STEP: 14000\tLOSS:  0.003\n",
            "TRAIN STEP: 15000\tLOSS:  0.011\n",
            "TRAIN STEP: 16000\tLOSS:  0.012\n",
            "TRAIN STEP: 17000\tLOSS:  0.001\n",
            "TRAIN STEP: 18000\tLOSS:  0.010\n"
          ]
        }
      ]
    },
    {
      "cell_type": "code",
      "source": [
        "model.eval() # testing mode\n",
        "correct = 0\n",
        "for data, target in test_loader:\n",
        "  data = data.to(device)\n",
        "  target = target.to(device)\n",
        "  output = model(data)\n",
        "  prediction = output.data.max(1)[1]\n",
        "  correct += prediction.eq(target.data).sum()\n",
        "\n",
        "print('test set accuracy: {: .2f}%' .format(100 * correct / len(test_loader.dataset)))"
      ],
      "metadata": {
        "colab": {
          "base_uri": "https://localhost:8080/"
        },
        "id": "OaLp5hujRnbu",
        "outputId": "4afbb3ce-d686-4d4e-e870-85176f44f269"
      },
      "execution_count": 27,
      "outputs": [
        {
          "output_type": "stream",
          "name": "stdout",
          "text": [
            "test set accuracy:  99.17%\n"
          ]
        }
      ]
    },
    {
      "cell_type": "code",
      "source": [],
      "metadata": {
        "id": "j1MM8MBZRtYl"
      },
      "execution_count": null,
      "outputs": []
    }
  ]
}