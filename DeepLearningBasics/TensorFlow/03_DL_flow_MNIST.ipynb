{
  "nbformat": 4,
  "nbformat_minor": 0,
  "metadata": {
    "colab": {
      "provenance": [],
      "authorship_tag": "ABX9TyPU0k45c5Cda3XjN+kC6xbI",
      "include_colab_link": true
    },
    "kernelspec": {
      "name": "python3",
      "display_name": "Python 3"
    },
    "language_info": {
      "name": "python"
    }
  },
  "cells": [
    {
      "cell_type": "markdown",
      "metadata": {
        "id": "view-in-github",
        "colab_type": "text"
      },
      "source": [
        "<a href=\"https://colab.research.google.com/github/dchlseo/DataScienceProjects/blob/main/DeepLearningBasics/TensorFlow/03_DL_flow_MNIST.ipynb\" target=\"_parent\"><img src=\"https://colab.research.google.com/assets/colab-badge.svg\" alt=\"Open In Colab\"/></a>"
      ]
    },
    {
      "cell_type": "code",
      "execution_count": 1,
      "metadata": {
        "id": "yIH3tmopKPlV"
      },
      "outputs": [],
      "source": [
        "import numpy as np\n",
        "import pandas as pd\n",
        "import tensorflow as tf\n",
        "\n",
        "import matplotlib.pyplot as plt\n",
        "import seaborn as sns\n",
        "%matplotlib inline"
      ]
    },
    {
      "cell_type": "code",
      "source": [
        "(train_x, train_y), (test_x, test_y) = tf.keras.datasets.mnist.load_data()"
      ],
      "metadata": {
        "colab": {
          "base_uri": "https://localhost:8080/"
        },
        "id": "yA3ou3b9KZwM",
        "outputId": "6e2bd61b-b6c6-4b4b-ee68-387822678b1e"
      },
      "execution_count": 2,
      "outputs": [
        {
          "output_type": "stream",
          "name": "stdout",
          "text": [
            "Downloading data from https://storage.googleapis.com/tensorflow/tf-keras-datasets/mnist.npz\n",
            "11490434/11490434 [==============================] - 1s 0us/step\n"
          ]
        }
      ]
    },
    {
      "cell_type": "markdown",
      "source": [
        "### EDA"
      ],
      "metadata": {
        "id": "RnIurBvnNofB"
      }
    },
    {
      "cell_type": "code",
      "source": [
        "print(train_x.shape)\n",
        "print(test_x.shape)"
      ],
      "metadata": {
        "colab": {
          "base_uri": "https://localhost:8080/"
        },
        "id": "tBwS7ugyKn0V",
        "outputId": "a12d26ad-8898-42fe-aaab-d253d9dc9194"
      },
      "execution_count": 3,
      "outputs": [
        {
          "output_type": "stream",
          "name": "stdout",
          "text": [
            "(60000, 28, 28)\n",
            "(10000, 28, 28)\n"
          ]
        }
      ]
    },
    {
      "cell_type": "code",
      "source": [
        "print(train_y.shape)\n",
        "print(test_y.shape)"
      ],
      "metadata": {
        "colab": {
          "base_uri": "https://localhost:8080/"
        },
        "id": "e9MotrI6KruX",
        "outputId": "38bb01e9-0c17-477c-dbcc-631efa614d4a"
      },
      "execution_count": 4,
      "outputs": [
        {
          "output_type": "stream",
          "name": "stdout",
          "text": [
            "(60000,)\n",
            "(10000,)\n"
          ]
        }
      ]
    },
    {
      "cell_type": "code",
      "source": [
        "print(train_x.dtype)\n",
        "print(test_x.dtype)\n",
        "print(train_y.dtype)\n",
        "print(test_y.dtype)"
      ],
      "metadata": {
        "colab": {
          "base_uri": "https://localhost:8080/"
        },
        "id": "IZIGvm6WKvhr",
        "outputId": "7876f1fb-fb82-4cb0-d4a8-45433dd0dec2"
      },
      "execution_count": 6,
      "outputs": [
        {
          "output_type": "stream",
          "name": "stdout",
          "text": [
            "uint8\n",
            "uint8\n",
            "uint8\n",
            "uint8\n"
          ]
        }
      ]
    },
    {
      "cell_type": "code",
      "source": [
        "image = train_x[77]\n",
        "image.shape"
      ],
      "metadata": {
        "colab": {
          "base_uri": "https://localhost:8080/"
        },
        "id": "U5xMOg4IK3n9",
        "outputId": "09b83973-2ffc-45bf-c511-f736eeab4584"
      },
      "execution_count": 13,
      "outputs": [
        {
          "output_type": "execute_result",
          "data": {
            "text/plain": [
              "(28, 28)"
            ]
          },
          "metadata": {},
          "execution_count": 13
        }
      ]
    },
    {
      "cell_type": "code",
      "source": [
        "plt.imshow(image, 'gray')\n",
        "plt.show()"
      ],
      "metadata": {
        "colab": {
          "base_uri": "https://localhost:8080/",
          "height": 430
        },
        "id": "U8Rx2WziK_fS",
        "outputId": "ae4bf238-145c-4271-bbb7-0241a4150051"
      },
      "execution_count": 14,
      "outputs": [
        {
          "output_type": "display_data",
          "data": {
            "text/plain": [
              "<Figure size 640x480 with 1 Axes>"
            ],
            "image/png": "[encoded data removed]"
          },
          "metadata": {}
        }
      ]
    },
    {
      "cell_type": "code",
      "source": [
        "y_unique, y_counts = np.unique(train_y, return_counts=True)\n",
        "df_view = pd.DataFrame(data={'count': y_counts}, index=y_unique)\n",
        "df_view"
      ],
      "metadata": {
        "colab": {
          "base_uri": "https://localhost:8080/",
          "height": 363
        },
        "id": "JD0F5XoALEMD",
        "outputId": "89951d8a-1f5b-495a-8285-8e557c33f4d7"
      },
      "execution_count": 31,
      "outputs": [
        {
          "output_type": "execute_result",
          "data": {
            "text/plain": [
              "   count\n",
              "0   5923\n",
              "1   6742\n",
              "2   5958\n",
              "3   6131\n",
              "4   5842\n",
              "5   5421\n",
              "6   5918\n",
              "7   6265\n",
              "8   5851\n",
              "9   5949"
            ],
            "text/html": [
              "\n",
              "  <div id=\"df-c4eafad3-25d5-4412-a7b7-f1acbcf6bece\" class=\"colab-df-container\">\n",
              "    <div>\n",
              "<style scoped>\n",
              "    .dataframe tbody tr th:only-of-type {\n",
              "        vertical-align: middle;\n",
              "    }\n",
              "\n",
              "    .dataframe tbody tr th {\n",
              "        vertical-align: top;\n",
              "    }\n",
              "\n",
              "    .dataframe thead th {\n",
              "        text-align: right;\n",
              "    }\n",
              "</style>\n",
              "<table border=\"1\" class=\"dataframe\">\n",
              "  <thead>\n",
              "    <tr style=\"text-align: right;\">\n",
              "      <th></th>\n",
              "      <th>count</th>\n",
              "    </tr>\n",
              "  </thead>\n",
              "  <tbody>\n",
              "    <tr>\n",
              "      <th>0</th>\n",
              "      <td>5923</td>\n",
              "    </tr>\n",
              "    <tr>\n",
              "      <th>1</th>\n",
              "      <td>6742</td>\n",
              "    </tr>\n",
              "    <tr>\n",
              "      <th>2</th>\n",
              "      <td>5958</td>\n",
              "    </tr>\n",
              "    <tr>\n",
              "      <th>3</th>\n",
              "      <td>6131</td>\n",
              "    </tr>\n",
              "    <tr>\n",
              "      <th>4</th>\n",
              "      <td>5842</td>\n",
              "    </tr>\n",
              "    <tr>\n",
              "      <th>5</th>\n",
              "      <td>5421</td>\n",
              "    </tr>\n",
              "    <tr>\n",
              "      <th>6</th>\n",
              "      <td>5918</td>\n",
              "    </tr>\n",
              "    <tr>\n",
              "      <th>7</th>\n",
              "      <td>6265</td>\n",
              "    </tr>\n",
              "    <tr>\n",
              "      <th>8</th>\n",
              "      <td>5851</td>\n",
              "    </tr>\n",
              "    <tr>\n",
              "      <th>9</th>\n",
              "      <td>5949</td>\n",
              "    </tr>\n",
              "  </tbody>\n",
              "</table>\n",
              "</div>\n",
              "    <div class=\"colab-df-buttons\">\n",
              "\n",
              "  <div class=\"colab-df-container\">\n",
              "    <button class=\"colab-df-convert\" onclick=\"convertToInteractive('df-c4eafad3-25d5-4412-a7b7-f1acbcf6bece')\"\n",
              "            title=\"Convert this dataframe to an interactive table.\"\n",
              "            style=\"display:none;\">\n",
              "\n",
              "  <svg xmlns=\"http://www.w3.org/2000/svg\" height=\"24px\" viewBox=\"0 -960 960 960\">\n",
              "    <path d=\"M120-120v-720h720v720H120Zm60-500h600v-160H180v160Zm220 220h160v-160H400v160Zm0 220h160v-160H400v160ZM180-400h160v-160H180v160Zm440 0h160v-160H620v160ZM180-180h160v-160H180v160Zm440 0h160v-160H620v160Z\"/>\n",
              "  </svg>\n",
              "    </button>\n",
              "\n",
              "  <style>\n",
              "    .colab-df-container {\n",
              "      display:flex;\n",
              "      gap: 12px;\n",
              "    }\n",
              "\n",
              "    .colab-df-convert {\n",
              "      background-color: #E8F0FE;\n",
              "      border: none;\n",
              "      border-radius: 50%;\n",
              "      cursor: pointer;\n",
              "      display: none;\n",
              "      fill: #1967D2;\n",
              "      height: 32px;\n",
              "      padding: 0 0 0 0;\n",
              "      width: 32px;\n",
              "    }\n",
              "\n",
              "    .colab-df-convert:hover {\n",
              "      background-color: #E2EBFA;\n",
              "      box-shadow: 0px 1px 2px rgba(60, 64, 67, 0.3), 0px 1px 3px 1px rgba(60, 64, 67, 0.15);\n",
              "      fill: #174EA6;\n",
              "    }\n",
              "\n",
              "    .colab-df-buttons div {\n",
              "      margin-bottom: 4px;\n",
              "    }\n",
              "\n",
              "    [theme=dark] .colab-df-convert {\n",
              "      background-color: #3B4455;\n",
              "      fill: #D2E3FC;\n",
              "    }\n",
              "\n",
              "    [theme=dark] .colab-df-convert:hover {\n",
              "      background-color: #434B5C;\n",
              "      box-shadow: 0px 1px 3px 1px rgba(0, 0, 0, 0.15);\n",
              "      filter: drop-shadow(0px 1px 2px rgba(0, 0, 0, 0.3));\n",
              "      fill: #FFFFFF;\n",
              "    }\n",
              "  </style>\n",
              "\n",
              "    <script>\n",
              "      const buttonEl =\n",
              "        document.querySelector('#df-c4eafad3-25d5-4412-a7b7-f1acbcf6bece button.colab-df-convert');\n",
              "      buttonEl.style.display =\n",
              "        google.colab.kernel.accessAllowed ? 'block' : 'none';\n",
              "\n",
              "      async function convertToInteractive(key) {\n",
              "        const element = document.querySelector('#df-c4eafad3-25d5-4412-a7b7-f1acbcf6bece');\n",
              "        const dataTable =\n",
              "          await google.colab.kernel.invokeFunction('convertToInteractive',\n",
              "                                                    [key], {});\n",
              "        if (!dataTable) return;\n",
              "\n",
              "        const docLinkHtml = 'Like what you see? Visit the ' +\n",
              "          '<a target=\"_blank\" href=https://colab.research.google.com/notebooks/data_table.ipynb>data table notebook</a>'\n",
              "          + ' to learn more about interactive tables.';\n",
              "        element.innerHTML = '';\n",
              "        dataTable['output_type'] = 'display_data';\n",
              "        await google.colab.output.renderOutput(dataTable, element);\n",
              "        const docLink = document.createElement('div');\n",
              "        docLink.innerHTML = docLinkHtml;\n",
              "        element.appendChild(docLink);\n",
              "      }\n",
              "    </script>\n",
              "  </div>\n",
              "\n",
              "\n",
              "<div id=\"df-b42341e8-0059-4e20-9b93-9f09482766f1\">\n",
              "  <button class=\"colab-df-quickchart\" onclick=\"quickchart('df-b42341e8-0059-4e20-9b93-9f09482766f1')\"\n",
              "            title=\"Suggest charts.\"\n",
              "            style=\"display:none;\">\n",
              "\n",
              "<svg xmlns=\"http://www.w3.org/2000/svg\" height=\"24px\"viewBox=\"0 0 24 24\"\n",
              "     width=\"24px\">\n",
              "    <g>\n",
              "        <path d=\"M19 3H5c-1.1 0-2 .9-2 2v14c0 1.1.9 2 2 2h14c1.1 0 2-.9 2-2V5c0-1.1-.9-2-2-2zM9 17H7v-7h2v7zm4 0h-2V7h2v10zm4 0h-2v-4h2v4z\"/>\n",
              "    </g>\n",
              "</svg>\n",
              "  </button>\n",
              "\n",
              "<style>\n",
              "  .colab-df-quickchart {\n",
              "      --bg-color: #E8F0FE;\n",
              "      --fill-color: #1967D2;\n",
              "      --hover-bg-color: #E2EBFA;\n",
              "      --hover-fill-color: #174EA6;\n",
              "      --disabled-fill-color: #AAA;\n",
              "      --disabled-bg-color: #DDD;\n",
              "  }\n",
              "\n",
              "  [theme=dark] .colab-df-quickchart {\n",
              "      --bg-color: #3B4455;\n",
              "      --fill-color: #D2E3FC;\n",
              "      --hover-bg-color: #434B5C;\n",
              "      --hover-fill-color: #FFFFFF;\n",
              "      --disabled-bg-color: #3B4455;\n",
              "      --disabled-fill-color: #666;\n",
              "  }\n",
              "\n",
              "  .colab-df-quickchart {\n",
              "    background-color: var(--bg-color);\n",
              "    border: none;\n",
              "    border-radius: 50%;\n",
              "    cursor: pointer;\n",
              "    display: none;\n",
              "    fill: var(--fill-color);\n",
              "    height: 32px;\n",
              "    padding: 0;\n",
              "    width: 32px;\n",
              "  }\n",
              "\n",
              "  .colab-df-quickchart:hover {\n",
              "    background-color: var(--hover-bg-color);\n",
              "    box-shadow: 0 1px 2px rgba(60, 64, 67, 0.3), 0 1px 3px 1px rgba(60, 64, 67, 0.15);\n",
              "    fill: var(--button-hover-fill-color);\n",
              "  }\n",
              "\n",
              "  .colab-df-quickchart-complete:disabled,\n",
              "  .colab-df-quickchart-complete:disabled:hover {\n",
              "    background-color: var(--disabled-bg-color);\n",
              "    fill: var(--disabled-fill-color);\n",
              "    box-shadow: none;\n",
              "  }\n",
              "\n",
              "  .colab-df-spinner {\n",
              "    border: 2px solid var(--fill-color);\n",
              "    border-color: transparent;\n",
              "    border-bottom-color: var(--fill-color);\n",
              "    animation:\n",
              "      spin 1s steps(1) infinite;\n",
              "  }\n",
              "\n",
              "  @keyframes spin {\n",
              "    0% {\n",
              "      border-color: transparent;\n",
              "      border-bottom-color: var(--fill-color);\n",
              "      border-left-color: var(--fill-color);\n",
              "    }\n",
              "    20% {\n",
              "      border-color: transparent;\n",
              "      border-left-color: var(--fill-color);\n",
              "      border-top-color: var(--fill-color);\n",
              "    }\n",
              "    30% {\n",
              "      border-color: transparent;\n",
              "      border-left-color: var(--fill-color);\n",
              "      border-top-color: var(--fill-color);\n",
              "      border-right-color: var(--fill-color);\n",
              "    }\n",
              "    40% {\n",
              "      border-color: transparent;\n",
              "      border-right-color: var(--fill-color);\n",
              "      border-top-color: var(--fill-color);\n",
              "    }\n",
              "    60% {\n",
              "      border-color: transparent;\n",
              "      border-right-color: var(--fill-color);\n",
              "    }\n",
              "    80% {\n",
              "      border-color: transparent;\n",
              "      border-right-color: var(--fill-color);\n",
              "      border-bottom-color: var(--fill-color);\n",
              "    }\n",
              "    90% {\n",
              "      border-color: transparent;\n",
              "      border-bottom-color: var(--fill-color);\n",
              "    }\n",
              "  }\n",
              "</style>\n",
              "\n",
              "  <script>\n",
              "    async function quickchart(key) {\n",
              "      const quickchartButtonEl =\n",
              "        document.querySelector('#' + key + ' button');\n",
              "      quickchartButtonEl.disabled = true;  // To prevent multiple clicks.\n",
              "      quickchartButtonEl.classList.add('colab-df-spinner');\n",
              "      try {\n",
              "        const charts = await google.colab.kernel.invokeFunction(\n",
              "            'suggestCharts', [key], {});\n",
              "      } catch (error) {\n",
              "        console.error('Error during call to suggestCharts:', error);\n",
              "      }\n",
              "      quickchartButtonEl.classList.remove('colab-df-spinner');\n",
              "      quickchartButtonEl.classList.add('colab-df-quickchart-complete');\n",
              "    }\n",
              "    (() => {\n",
              "      let quickchartButtonEl =\n",
              "        document.querySelector('#df-b42341e8-0059-4e20-9b93-9f09482766f1 button');\n",
              "      quickchartButtonEl.style.display =\n",
              "        google.colab.kernel.accessAllowed ? 'block' : 'none';\n",
              "    })();\n",
              "  </script>\n",
              "</div>\n",
              "    </div>\n",
              "  </div>\n"
            ]
          },
          "metadata": {},
          "execution_count": 31
        }
      ]
    },
    {
      "cell_type": "code",
      "source": [
        "df_view.sort_values(by='count', ascending=False)"
      ],
      "metadata": {
        "colab": {
          "base_uri": "https://localhost:8080/",
          "height": 363
        },
        "id": "mAlTzrdpMP-t",
        "outputId": "323ddf25-78de-4aa7-b891-026abff641b4"
      },
      "execution_count": 32,
      "outputs": [
        {
          "output_type": "execute_result",
          "data": {
            "text/plain": [
              "   count\n",
              "1   6742\n",
              "7   6265\n",
              "3   6131\n",
              "2   5958\n",
              "9   5949\n",
              "0   5923\n",
              "6   5918\n",
              "8   5851\n",
              "4   5842\n",
              "5   5421"
            ],
            "text/html": [
              "\n",
              "  <div id=\"df-340ab03e-1886-4dc8-ac81-1267ff8d72b8\" class=\"colab-df-container\">\n",
              "    <div>\n",
              "<style scoped>\n",
              "    .dataframe tbody tr th:only-of-type {\n",
              "        vertical-align: middle;\n",
              "    }\n",
              "\n",
              "    .dataframe tbody tr th {\n",
              "        vertical-align: top;\n",
              "    }\n",
              "\n",
              "    .dataframe thead th {\n",
              "        text-align: right;\n",
              "    }\n",
              "</style>\n",
              "<table border=\"1\" class=\"dataframe\">\n",
              "  <thead>\n",
              "    <tr style=\"text-align: right;\">\n",
              "      <th></th>\n",
              "      <th>count</th>\n",
              "    </tr>\n",
              "  </thead>\n",
              "  <tbody>\n",
              "    <tr>\n",
              "      <th>1</th>\n",
              "      <td>6742</td>\n",
              "    </tr>\n",
              "    <tr>\n",
              "      <th>7</th>\n",
              "      <td>6265</td>\n",
              "    </tr>\n",
              "    <tr>\n",
              "      <th>3</th>\n",
              "      <td>6131</td>\n",
              "    </tr>\n",
              "    <tr>\n",
              "      <th>2</th>\n",
              "      <td>5958</td>\n",
              "    </tr>\n",
              "    <tr>\n",
              "      <th>9</th>\n",
              "      <td>5949</td>\n",
              "    </tr>\n",
              "    <tr>\n",
              "      <th>0</th>\n",
              "      <td>5923</td>\n",
              "    </tr>\n",
              "    <tr>\n",
              "      <th>6</th>\n",
              "      <td>5918</td>\n",
              "    </tr>\n",
              "    <tr>\n",
              "      <th>8</th>\n",
              "      <td>5851</td>\n",
              "    </tr>\n",
              "    <tr>\n",
              "      <th>4</th>\n",
              "      <td>5842</td>\n",
              "    </tr>\n",
              "    <tr>\n",
              "      <th>5</th>\n",
              "      <td>5421</td>\n",
              "    </tr>\n",
              "  </tbody>\n",
              "</table>\n",
              "</div>\n",
              "    <div class=\"colab-df-buttons\">\n",
              "\n",
              "  <div class=\"colab-df-container\">\n",
              "    <button class=\"colab-df-convert\" onclick=\"convertToInteractive('df-340ab03e-1886-4dc8-ac81-1267ff8d72b8')\"\n",
              "            title=\"Convert this dataframe to an interactive table.\"\n",
              "            style=\"display:none;\">\n",
              "\n",
              "  <svg xmlns=\"http://www.w3.org/2000/svg\" height=\"24px\" viewBox=\"0 -960 960 960\">\n",
              "    <path d=\"M120-120v-720h720v720H120Zm60-500h600v-160H180v160Zm220 220h160v-160H400v160Zm0 220h160v-160H400v160ZM180-400h160v-160H180v160Zm440 0h160v-160H620v160ZM180-180h160v-160H180v160Zm440 0h160v-160H620v160Z\"/>\n",
              "  </svg>\n",
              "    </button>\n",
              "\n",
              "  <style>\n",
              "    .colab-df-container {\n",
              "      display:flex;\n",
              "      gap: 12px;\n",
              "    }\n",
              "\n",
              "    .colab-df-convert {\n",
              "      background-color: #E8F0FE;\n",
              "      border: none;\n",
              "      border-radius: 50%;\n",
              "      cursor: pointer;\n",
              "      display: none;\n",
              "      fill: #1967D2;\n",
              "      height: 32px;\n",
              "      padding: 0 0 0 0;\n",
              "      width: 32px;\n",
              "    }\n",
              "\n",
              "    .colab-df-convert:hover {\n",
              "      background-color: #E2EBFA;\n",
              "      box-shadow: 0px 1px 2px rgba(60, 64, 67, 0.3), 0px 1px 3px 1px rgba(60, 64, 67, 0.15);\n",
              "      fill: #174EA6;\n",
              "    }\n",
              "\n",
              "    .colab-df-buttons div {\n",
              "      margin-bottom: 4px;\n",
              "    }\n",
              "\n",
              "    [theme=dark] .colab-df-convert {\n",
              "      background-color: #3B4455;\n",
              "      fill: #D2E3FC;\n",
              "    }\n",
              "\n",
              "    [theme=dark] .colab-df-convert:hover {\n",
              "      background-color: #434B5C;\n",
              "      box-shadow: 0px 1px 3px 1px rgba(0, 0, 0, 0.15);\n",
              "      filter: drop-shadow(0px 1px 2px rgba(0, 0, 0, 0.3));\n",
              "      fill: #FFFFFF;\n",
              "    }\n",
              "  </style>\n",
              "\n",
              "    <script>\n",
              "      const buttonEl =\n",
              "        document.querySelector('#df-340ab03e-1886-4dc8-ac81-1267ff8d72b8 button.colab-df-convert');\n",
              "      buttonEl.style.display =\n",
              "        google.colab.kernel.accessAllowed ? 'block' : 'none';\n",
              "\n",
              "      async function convertToInteractive(key) {\n",
              "        const element = document.querySelector('#df-340ab03e-1886-4dc8-ac81-1267ff8d72b8');\n",
              "        const dataTable =\n",
              "          await google.colab.kernel.invokeFunction('convertToInteractive',\n",
              "                                                    [key], {});\n",
              "        if (!dataTable) return;\n",
              "\n",
              "        const docLinkHtml = 'Like what you see? Visit the ' +\n",
              "          '<a target=\"_blank\" href=https://colab.research.google.com/notebooks/data_table.ipynb>data table notebook</a>'\n",
              "          + ' to learn more about interactive tables.';\n",
              "        element.innerHTML = '';\n",
              "        dataTable['output_type'] = 'display_data';\n",
              "        await google.colab.output.renderOutput(dataTable, element);\n",
              "        const docLink = document.createElement('div');\n",
              "        docLink.innerHTML = docLinkHtml;\n",
              "        element.appendChild(docLink);\n",
              "      }\n",
              "    </script>\n",
              "  </div>\n",
              "\n",
              "\n",
              "<div id=\"df-63c4a64e-6af1-438a-896a-bb4a317e01ca\">\n",
              "  <button class=\"colab-df-quickchart\" onclick=\"quickchart('df-63c4a64e-6af1-438a-896a-bb4a317e01ca')\"\n",
              "            title=\"Suggest charts.\"\n",
              "            style=\"display:none;\">\n",
              "\n",
              "<svg xmlns=\"http://www.w3.org/2000/svg\" height=\"24px\"viewBox=\"0 0 24 24\"\n",
              "     width=\"24px\">\n",
              "    <g>\n",
              "        <path d=\"M19 3H5c-1.1 0-2 .9-2 2v14c0 1.1.9 2 2 2h14c1.1 0 2-.9 2-2V5c0-1.1-.9-2-2-2zM9 17H7v-7h2v7zm4 0h-2V7h2v10zm4 0h-2v-4h2v4z\"/>\n",
              "    </g>\n",
              "</svg>\n",
              "  </button>\n",
              "\n",
              "<style>\n",
              "  .colab-df-quickchart {\n",
              "      --bg-color: #E8F0FE;\n",
              "      --fill-color: #1967D2;\n",
              "      --hover-bg-color: #E2EBFA;\n",
              "      --hover-fill-color: #174EA6;\n",
              "      --disabled-fill-color: #AAA;\n",
              "      --disabled-bg-color: #DDD;\n",
              "  }\n",
              "\n",
              "  [theme=dark] .colab-df-quickchart {\n",
              "      --bg-color: #3B4455;\n",
              "      --fill-color: #D2E3FC;\n",
              "      --hover-bg-color: #434B5C;\n",
              "      --hover-fill-color: #FFFFFF;\n",
              "      --disabled-bg-color: #3B4455;\n",
              "      --disabled-fill-color: #666;\n",
              "  }\n",
              "\n",
              "  .colab-df-quickchart {\n",
              "    background-color: var(--bg-color);\n",
              "    border: none;\n",
              "    border-radius: 50%;\n",
              "    cursor: pointer;\n",
              "    display: none;\n",
              "    fill: var(--fill-color);\n",
              "    height: 32px;\n",
              "    padding: 0;\n",
              "    width: 32px;\n",
              "  }\n",
              "\n",
              "  .colab-df-quickchart:hover {\n",
              "    background-color: var(--hover-bg-color);\n",
              "    box-shadow: 0 1px 2px rgba(60, 64, 67, 0.3), 0 1px 3px 1px rgba(60, 64, 67, 0.15);\n",
              "    fill: var(--button-hover-fill-color);\n",
              "  }\n",
              "\n",
              "  .colab-df-quickchart-complete:disabled,\n",
              "  .colab-df-quickchart-complete:disabled:hover {\n",
              "    background-color: var(--disabled-bg-color);\n",
              "    fill: var(--disabled-fill-color);\n",
              "    box-shadow: none;\n",
              "  }\n",
              "\n",
              "  .colab-df-spinner {\n",
              "    border: 2px solid var(--fill-color);\n",
              "    border-color: transparent;\n",
              "    border-bottom-color: var(--fill-color);\n",
              "    animation:\n",
              "      spin 1s steps(1) infinite;\n",
              "  }\n",
              "\n",
              "  @keyframes spin {\n",
              "    0% {\n",
              "      border-color: transparent;\n",
              "      border-bottom-color: var(--fill-color);\n",
              "      border-left-color: var(--fill-color);\n",
              "    }\n",
              "    20% {\n",
              "      border-color: transparent;\n",
              "      border-left-color: var(--fill-color);\n",
              "      border-top-color: var(--fill-color);\n",
              "    }\n",
              "    30% {\n",
              "      border-color: transparent;\n",
              "      border-left-color: var(--fill-color);\n",
              "      border-top-color: var(--fill-color);\n",
              "      border-right-color: var(--fill-color);\n",
              "    }\n",
              "    40% {\n",
              "      border-color: transparent;\n",
              "      border-right-color: var(--fill-color);\n",
              "      border-top-color: var(--fill-color);\n",
              "    }\n",
              "    60% {\n",
              "      border-color: transparent;\n",
              "      border-right-color: var(--fill-color);\n",
              "    }\n",
              "    80% {\n",
              "      border-color: transparent;\n",
              "      border-right-color: var(--fill-color);\n",
              "      border-bottom-color: var(--fill-color);\n",
              "    }\n",
              "    90% {\n",
              "      border-color: transparent;\n",
              "      border-bottom-color: var(--fill-color);\n",
              "    }\n",
              "  }\n",
              "</style>\n",
              "\n",
              "  <script>\n",
              "    async function quickchart(key) {\n",
              "      const quickchartButtonEl =\n",
              "        document.querySelector('#' + key + ' button');\n",
              "      quickchartButtonEl.disabled = true;  // To prevent multiple clicks.\n",
              "      quickchartButtonEl.classList.add('colab-df-spinner');\n",
              "      try {\n",
              "        const charts = await google.colab.kernel.invokeFunction(\n",
              "            'suggestCharts', [key], {});\n",
              "      } catch (error) {\n",
              "        console.error('Error during call to suggestCharts:', error);\n",
              "      }\n",
              "      quickchartButtonEl.classList.remove('colab-df-spinner');\n",
              "      quickchartButtonEl.classList.add('colab-df-quickchart-complete');\n",
              "    }\n",
              "    (() => {\n",
              "      let quickchartButtonEl =\n",
              "        document.querySelector('#df-63c4a64e-6af1-438a-896a-bb4a317e01ca button');\n",
              "      quickchartButtonEl.style.display =\n",
              "        google.colab.kernel.accessAllowed ? 'block' : 'none';\n",
              "    })();\n",
              "  </script>\n",
              "</div>\n",
              "    </div>\n",
              "  </div>\n"
            ]
          },
          "metadata": {},
          "execution_count": 32
        }
      ]
    },
    {
      "cell_type": "code",
      "source": [
        "plt.bar(x=y_unique, height=y_counts, color='black')\n",
        "plt.title('label distribution')\n",
        "plt.show()"
      ],
      "metadata": {
        "colab": {
          "base_uri": "https://localhost:8080/",
          "height": 452
        },
        "id": "qQ0vLLqhM6L4",
        "outputId": "08c38d71-f84f-4d60-f2d6-d50fe275c343"
      },
      "execution_count": 33,
      "outputs": [
        {
          "output_type": "display_data",
          "data": {
            "text/plain": [
              "<Figure size 640x480 with 1 Axes>"
            ],
            "image/png": "[encoded data removed]"
          },
          "metadata": {}
        }
      ]
    },
    {
      "cell_type": "code",
      "source": [
        "image = tf.constant(image)"
      ],
      "metadata": {
        "id": "8aW7v6BVNG6I"
      },
      "execution_count": 34,
      "outputs": []
    },
    {
      "cell_type": "code",
      "source": [
        "plt.imshow(image, 'gray')\n",
        "plt.show()"
      ],
      "metadata": {
        "colab": {
          "base_uri": "https://localhost:8080/",
          "height": 430
        },
        "id": "gzeCpBdfNURc",
        "outputId": "9fc04d53-87d6-4fe1-c13f-07893d58ab1b"
      },
      "execution_count": 35,
      "outputs": [
        {
          "output_type": "display_data",
          "data": {
            "text/plain": [
              "<Figure size 640x480 with 1 Axes>"
            ],
            "image/png": "[encoded data removed]"
          },
          "metadata": {}
        }
      ]
    },
    {
      "cell_type": "code",
      "source": [
        "plt.imshow(tf.transpose(image), 'gray')\n",
        "plt.show()"
      ],
      "metadata": {
        "colab": {
          "base_uri": "https://localhost:8080/",
          "height": 430
        },
        "id": "nk49L5s-NWe9",
        "outputId": "0a95c726-4a5e-4cf2-f421-e44542260af3"
      },
      "execution_count": 36,
      "outputs": [
        {
          "output_type": "display_data",
          "data": {
            "text/plain": [
              "<Figure size 640x480 with 1 Axes>"
            ],
            "image/png": "[encoded data removed]"
          },
          "metadata": {}
        }
      ]
    },
    {
      "cell_type": "markdown",
      "source": [
        "### Preprocessing"
      ],
      "metadata": {
        "id": "8M4sKUztNhpw"
      }
    },
    {
      "cell_type": "markdown",
      "source": [
        "#### Data validation"
      ],
      "metadata": {
        "id": "b8og1QmaOUuO"
      }
    },
    {
      "cell_type": "code",
      "source": [
        "def validate_pixel_scale(x):\n",
        "  return 255 >= x.max() and 0 <= x.min()"
      ],
      "metadata": {
        "id": "nzgPGelkNsA_"
      },
      "execution_count": 37,
      "outputs": []
    },
    {
      "cell_type": "code",
      "source": [
        "validated_train_x = np.array([x for x in train_x if validate_pixel_scale(x)])\n",
        "validated_train_y = np.array([y for x, y in zip(train_x, train_y) if validate_pixel_scale(x)])"
      ],
      "metadata": {
        "id": "Ikg5A-8cOf8n"
      },
      "execution_count": 38,
      "outputs": []
    },
    {
      "cell_type": "code",
      "source": [
        "print(validated_train_x.shape)\n",
        "print(validated_train_y.shape)"
      ],
      "metadata": {
        "colab": {
          "base_uri": "https://localhost:8080/"
        },
        "id": "XP9wL_1xOt6P",
        "outputId": "887e5188-b7f2-4587-b147-5c8b8ec78de2"
      },
      "execution_count": 39,
      "outputs": [
        {
          "output_type": "stream",
          "name": "stdout",
          "text": [
            "(60000, 28, 28)\n",
            "(60000,)\n"
          ]
        }
      ]
    },
    {
      "cell_type": "markdown",
      "source": [
        "#### Scaling"
      ],
      "metadata": {
        "id": "q5Xn4ljHOxZ1"
      }
    },
    {
      "cell_type": "code",
      "source": [
        "def scale(x):\n",
        "  return (x/255.0).astype(np.float32)  # range 0~1"
      ],
      "metadata": {
        "id": "uUjNDXK7O8rq"
      },
      "execution_count": 40,
      "outputs": []
    },
    {
      "cell_type": "code",
      "source": [
        "scaled_train_x = np.array([scale(x) for x in validated_train_x])"
      ],
      "metadata": {
        "id": "BSnsQLG4PUQE"
      },
      "execution_count": 41,
      "outputs": []
    },
    {
      "cell_type": "code",
      "source": [
        "# unit test\n",
        "sample = scale(validated_train_x[777])\n",
        "print(sample.min())\n",
        "print(sample.max())\n",
        "\n",
        "sns.displot(sample.reshape(-1), kde=False)\n",
        "plt.show()"
      ],
      "metadata": {
        "colab": {
          "base_uri": "https://localhost:8080/",
          "height": 542
        },
        "id": "S0jsGG43RUGj",
        "outputId": "25bc6f96-c467-49d2-d8df-25bdc1a69969"
      },
      "execution_count": 46,
      "outputs": [
        {
          "output_type": "stream",
          "name": "stdout",
          "text": [
            "0.0\n",
            "1.0\n"
          ]
        },
        {
          "output_type": "display_data",
          "data": {
            "text/plain": [
              "<Figure size 500x500 with 1 Axes>"
            ],
            "image/png": "[encoded data removed]"
          },
          "metadata": {}
        }
      ]
    },
    {
      "cell_type": "code",
      "source": [],
      "metadata": {
        "id": "xRdIg7_8RWi_"
      },
      "execution_count": null,
      "outputs": []
    },
    {
      "cell_type": "markdown",
      "source": [
        "#### Flattening"
      ],
      "metadata": {
        "id": "pX-7XmLEPXxz"
      }
    },
    {
      "cell_type": "code",
      "source": [
        "flattened_train_x = scaled_train_x.reshape((60000, -1))"
      ],
      "metadata": {
        "id": "qoY-s_wrPYRr"
      },
      "execution_count": 48,
      "outputs": []
    },
    {
      "cell_type": "code",
      "source": [
        "flattened_train_x.shape"
      ],
      "metadata": {
        "colab": {
          "base_uri": "https://localhost:8080/"
        },
        "id": "kTQH1fN1QLys",
        "outputId": "3790a76e-28ad-4863-db77-f44e35810893"
      },
      "execution_count": 49,
      "outputs": [
        {
          "output_type": "execute_result",
          "data": {
            "text/plain": [
              "(60000, 784)"
            ]
          },
          "metadata": {},
          "execution_count": 49
        }
      ]
    },
    {
      "cell_type": "markdown",
      "source": [
        "#### Label encoding (one-hot encoding)"
      ],
      "metadata": {
        "id": "qNqlprQiQMKM"
      }
    },
    {
      "cell_type": "code",
      "source": [
        "tf.keras.utils.to_categorical()"
      ],
      "metadata": {
        "id": "Yg0xKbAVQM-a"
      },
      "execution_count": null,
      "outputs": []
    },
    {
      "cell_type": "code",
      "source": [
        "ohe_train_y = np.array([tf.keras.utils.to_categorical(y, num_classes=10) for y in validated_train_y])"
      ],
      "metadata": {
        "id": "MQtktYfNR6VS"
      },
      "execution_count": 50,
      "outputs": []
    },
    {
      "cell_type": "code",
      "source": [
        "ohe_train_y.shape"
      ],
      "metadata": {
        "colab": {
          "base_uri": "https://localhost:8080/"
        },
        "id": "v5jtLGoYSPAt",
        "outputId": "a37d2626-f8e7-4bd8-8bb0-76a6e5c32697"
      },
      "execution_count": 51,
      "outputs": [
        {
          "output_type": "execute_result",
          "data": {
            "text/plain": [
              "(60000, 10)"
            ]
          },
          "metadata": {},
          "execution_count": 51
        }
      ]
    },
    {
      "cell_type": "markdown",
      "source": [
        "### Class for data preprocessing"
      ],
      "metadata": {
        "id": "jDFZgTPBSQPl"
      }
    },
    {
      "cell_type": "code",
      "source": [
        "class DataLoader():\n",
        "\n",
        "  def __init__(self):\n",
        "    (self.train_x, self.train_y), \\\n",
        "      (self.test_x, self.test_y) = tf.keras.datasets.mnist.load_data()\n",
        "\n",
        "  def validate_pixel_scale(self, x):\n",
        "    return 255 >= x.max() and 0 <= x.min()\n",
        "\n",
        "  def scale(self, x):\n",
        "    return (x/255.0).astype(np.float32)  # range 0~1\n",
        "\n",
        "  def preprocess_dataset(self, dataset):\n",
        "    (feature, target) = dataset\n",
        "\n",
        "    validated_x = np.array([x for x in feature if self.validate_pixel_scale(x)])\n",
        "    validated_y = np.array([y for x, y in zip(feature, target) if self.validate_pixel_scale(x)])\n",
        "\n",
        "    # scaling\n",
        "    scaled_x = np.array([self.scale(x) for x in validated_x])\n",
        "\n",
        "    # flattening\n",
        "    flattened_x = scaled_x.reshape((scaled_x.shape[0], -1))\n",
        "\n",
        "    # label encoding\n",
        "    ohe_y = np.array([tf.keras.utils.to_categorical(y, num_classes=10) for y in validated_y])\n",
        "\n",
        "    return flattened_x, ohe_y\n",
        "\n",
        "  def get_train_dataset(self):\n",
        "    return self.preprocess_dataset((self.train_x, self.train_y))\n",
        "\n",
        "  def get_test_dataset(self):\n",
        "    return self.preprocess_dataset((self.test_x, self.test_y))\n",
        ""
      ],
      "metadata": {
        "id": "roptYp9PSY2Y"
      },
      "execution_count": 52,
      "outputs": []
    },
    {
      "cell_type": "code",
      "source": [
        "mnist_loader = DataLoader()"
      ],
      "metadata": {
        "id": "zCT4crRwYtx-"
      },
      "execution_count": 53,
      "outputs": []
    },
    {
      "cell_type": "code",
      "source": [
        "train_x, train_y = mnist_loader.get_train_dataset()\n",
        "test_x, test_y = mnist_loader.get_test_dataset()"
      ],
      "metadata": {
        "id": "hSRonHElYxQK"
      },
      "execution_count": 55,
      "outputs": []
    },
    {
      "cell_type": "code",
      "source": [
        "print(train_x.shape, train_x.dtype)\n",
        "print(train_y.shape, train_y.dtype)\n",
        "\n",
        "print(test_x.shape, test_x.dtype)\n",
        "print(test_y.shape, test_y.dtype)"
      ],
      "metadata": {
        "colab": {
          "base_uri": "https://localhost:8080/"
        },
        "id": "6easRO8rY4ed",
        "outputId": "7d376b6f-1946-4978-fdf2-7d514cc7cf51"
      },
      "execution_count": 56,
      "outputs": [
        {
          "output_type": "stream",
          "name": "stdout",
          "text": [
            "(60000, 784) float32\n",
            "(60000, 10) float32\n",
            "(10000, 784) float32\n",
            "(10000, 10) float32\n"
          ]
        }
      ]
    },
    {
      "cell_type": "markdown",
      "source": [
        "### Modeling"
      ],
      "metadata": {
        "id": "ScIdbvtOZTIs"
      }
    },
    {
      "cell_type": "markdown",
      "source": [
        "#### Defining model"
      ],
      "metadata": {
        "id": "yxWQCjd6ZiSD"
      }
    },
    {
      "cell_type": "code",
      "source": [
        "from tensorflow.keras.layers import Dense, Activation"
      ],
      "metadata": {
        "id": "6zrxY2XvZqPe"
      },
      "execution_count": 57,
      "outputs": []
    },
    {
      "cell_type": "code",
      "source": [
        "model = tf.keras.Sequential()\n",
        "model.add(Dense(15, input_dim=784))\n",
        "model.add(Activation('sigmoid'))\n",
        "model.add(Dense(10))\n",
        "model.add(Activation('softmax'))"
      ],
      "metadata": {
        "id": "MGupBsm5Z7Mq"
      },
      "execution_count": 59,
      "outputs": []
    },
    {
      "cell_type": "code",
      "source": [
        "model.summary()"
      ],
      "metadata": {
        "colab": {
          "base_uri": "https://localhost:8080/"
        },
        "id": "aYO0Px0KZqlf",
        "outputId": "058e88ae-ca58-4d10-82f6-f1ae6601f967"
      },
      "execution_count": 60,
      "outputs": [
        {
          "output_type": "stream",
          "name": "stdout",
          "text": [
            "Model: \"sequential_1\"\n",
            "_________________________________________________________________\n",
            " Layer (type)                Output Shape              Param #   \n",
            "=================================================================\n",
            " dense (Dense)               (None, 15)                11775     \n",
            "                                                                 \n",
            " activation (Activation)     (None, 15)                0         \n",
            "                                                                 \n",
            " dense_1 (Dense)             (None, 10)                160       \n",
            "                                                                 \n",
            " activation_1 (Activation)   (None, 10)                0         \n",
            "                                                                 \n",
            "=================================================================\n",
            "Total params: 11935 (46.62 KB)\n",
            "Trainable params: 11935 (46.62 KB)\n",
            "Non-trainable params: 0 (0.00 Byte)\n",
            "_________________________________________________________________\n"
          ]
        }
      ]
    },
    {
      "cell_type": "code",
      "source": [],
      "metadata": {
        "id": "7GFsPCRiaShJ"
      },
      "execution_count": null,
      "outputs": []
    },
    {
      "cell_type": "markdown",
      "source": [
        "#### Training logic"
      ],
      "metadata": {
        "id": "jXxkSFQ1Zqwk"
      }
    },
    {
      "cell_type": "code",
      "source": [
        "opt = tf.keras.optimizers.SGD(0.03)  # lr=0.03\n",
        "loss = tf.keras.losses.categorical_crossentropy"
      ],
      "metadata": {
        "id": "U3WKxDu3a8ES"
      },
      "execution_count": 61,
      "outputs": []
    },
    {
      "cell_type": "code",
      "source": [
        "model.compile(optimizer=opt, loss=loss, metrics=['accuracy'])"
      ],
      "metadata": {
        "id": "pr4-iGaRZq6n"
      },
      "execution_count": 63,
      "outputs": []
    },
    {
      "cell_type": "code",
      "source": [],
      "metadata": {
        "id": "oYk5IYdYZyJw"
      },
      "execution_count": null,
      "outputs": []
    },
    {
      "cell_type": "markdown",
      "source": [
        "#### Execute training"
      ],
      "metadata": {
        "id": "9hwqTTW1Zy-s"
      }
    },
    {
      "cell_type": "code",
      "source": [
        "hist = model.fit(train_x, train_y, epochs=20, batch_size=256)"
      ],
      "metadata": {
        "colab": {
          "base_uri": "https://localhost:8080/"
        },
        "id": "rPNs8ypeZyYf",
        "outputId": "13ff6635-d3f4-4740-c9f9-3e5ceac76244"
      },
      "execution_count": 77,
      "outputs": [
        {
          "output_type": "stream",
          "name": "stdout",
          "text": [
            "Epoch 1/20\n",
            "235/235 [==============================] - 1s 5ms/step - loss: 0.3724 - accuracy: 0.9023\n",
            "Epoch 2/20\n",
            "235/235 [==============================] - 1s 5ms/step - loss: 0.3672 - accuracy: 0.9031\n",
            "Epoch 3/20\n",
            "235/235 [==============================] - 1s 3ms/step - loss: 0.3624 - accuracy: 0.9039\n",
            "Epoch 4/20\n",
            "235/235 [==============================] - 1s 3ms/step - loss: 0.3578 - accuracy: 0.9054\n",
            "Epoch 5/20\n",
            "235/235 [==============================] - 1s 3ms/step - loss: 0.3535 - accuracy: 0.9058\n",
            "Epoch 6/20\n",
            "235/235 [==============================] - 1s 3ms/step - loss: 0.3495 - accuracy: 0.9067\n",
            "Epoch 7/20\n",
            "235/235 [==============================] - 1s 3ms/step - loss: 0.3456 - accuracy: 0.9075\n",
            "Epoch 8/20\n",
            "235/235 [==============================] - 1s 3ms/step - loss: 0.3420 - accuracy: 0.9081\n",
            "Epoch 9/20\n",
            "235/235 [==============================] - 1s 5ms/step - loss: 0.3386 - accuracy: 0.9086\n",
            "Epoch 10/20\n",
            "235/235 [==============================] - 1s 6ms/step - loss: 0.3353 - accuracy: 0.9090\n",
            "Epoch 11/20\n",
            "235/235 [==============================] - 1s 4ms/step - loss: 0.3321 - accuracy: 0.9097\n",
            "Epoch 12/20\n",
            "235/235 [==============================] - 1s 3ms/step - loss: 0.3291 - accuracy: 0.9104\n",
            "Epoch 13/20\n",
            "235/235 [==============================] - 1s 3ms/step - loss: 0.3263 - accuracy: 0.9109\n",
            "Epoch 14/20\n",
            "235/235 [==============================] - 1s 3ms/step - loss: 0.3235 - accuracy: 0.9114\n",
            "Epoch 15/20\n",
            "235/235 [==============================] - 1s 3ms/step - loss: 0.3209 - accuracy: 0.9118\n",
            "Epoch 16/20\n",
            "235/235 [==============================] - 1s 3ms/step - loss: 0.3184 - accuracy: 0.9126\n",
            "Epoch 17/20\n",
            "235/235 [==============================] - 1s 3ms/step - loss: 0.3159 - accuracy: 0.9133\n",
            "Epoch 18/20\n",
            "235/235 [==============================] - 1s 3ms/step - loss: 0.3136 - accuracy: 0.9136\n",
            "Epoch 19/20\n",
            "235/235 [==============================] - 1s 3ms/step - loss: 0.3113 - accuracy: 0.9138\n",
            "Epoch 20/20\n",
            "235/235 [==============================] - 1s 3ms/step - loss: 0.3092 - accuracy: 0.9143\n"
          ]
        }
      ]
    },
    {
      "cell_type": "markdown",
      "source": [
        "Notice the output returns 'History'. We can use this to evaluate whether training was done correctly."
      ],
      "metadata": {
        "id": "V2rloFu6Z2X9"
      }
    },
    {
      "cell_type": "markdown",
      "source": [
        " #### Evaluation"
      ],
      "metadata": {
        "id": "nb3twjGNZ2ls"
      }
    },
    {
      "cell_type": "code",
      "source": [
        "hist.history  # loss/accuracy for each epoch"
      ],
      "metadata": {
        "colab": {
          "base_uri": "https://localhost:8080/"
        },
        "id": "71vc9bGLZ2xB",
        "outputId": "caf0d3e9-1496-48ff-9de7-3455cf9b25fb"
      },
      "execution_count": 78,
      "outputs": [
        {
          "output_type": "execute_result",
          "data": {
            "text/plain": [
              "{'loss': [0.37241190671920776,\n",
              "  0.36720407009124756,\n",
              "  0.36237868666648865,\n",
              "  0.35779422521591187,\n",
              "  0.35354605317115784,\n",
              "  0.3494527041912079,\n",
              "  0.3456459641456604,\n",
              "  0.34200841188430786,\n",
              "  0.3385828137397766,\n",
              "  0.33526611328125,\n",
              "  0.33214056491851807,\n",
              "  0.32910943031311035,\n",
              "  0.32627037167549133,\n",
              "  0.32353994250297546,\n",
              "  0.3208925724029541,\n",
              "  0.3183583617210388,\n",
              "  0.3159292936325073,\n",
              "  0.31358522176742554,\n",
              "  0.3112802505493164,\n",
              "  0.30917081236839294],\n",
              " 'accuracy': [0.9022833108901978,\n",
              "  0.903083324432373,\n",
              "  0.9039499759674072,\n",
              "  0.9053833484649658,\n",
              "  0.9058333039283752,\n",
              "  0.9066666960716248,\n",
              "  0.9075333476066589,\n",
              "  0.9081000089645386,\n",
              "  0.9085666537284851,\n",
              "  0.9090499877929688,\n",
              "  0.9096999764442444,\n",
              "  0.9104333519935608,\n",
              "  0.9108666777610779,\n",
              "  0.9114166498184204,\n",
              "  0.9118333458900452,\n",
              "  0.9125833511352539,\n",
              "  0.913349986076355,\n",
              "  0.9135500192642212,\n",
              "  0.9138333201408386,\n",
              "  0.9143000245094299]}"
            ]
          },
          "metadata": {},
          "execution_count": 78
        }
      ]
    },
    {
      "cell_type": "code",
      "source": [
        "plt.figure(figsize=(10,5))\n",
        "plt.subplot(121)\n",
        "plt.plot(hist.history['loss'])\n",
        "plt.subplot(122)\n",
        "plt.plot(hist.history['accuracy'])\n",
        "\n",
        "plt.show()"
      ],
      "metadata": {
        "colab": {
          "base_uri": "https://localhost:8080/",
          "height": 359
        },
        "id": "Bn8zt_27Z22y",
        "outputId": "1d535032-190c-4c35-a96a-e4be4b4394d2"
      },
      "execution_count": 80,
      "outputs": [
        {
          "output_type": "display_data",
          "data": {
            "text/plain": [
              "<Figure size 1000x500 with 2 Axes>"
            ],
            "image/png": "[encoded data removed]"
          },
          "metadata": {}
        }
      ]
    },
    {
      "cell_type": "code",
      "source": [
        "model.evaluate(test_x, test_y) # returns final loss and accuracy"
      ],
      "metadata": {
        "colab": {
          "base_uri": "https://localhost:8080/"
        },
        "id": "QoQBNJJJZ26w",
        "outputId": "79308981-ed5b-4fe3-c67d-2ec62f64650d"
      },
      "execution_count": 81,
      "outputs": [
        {
          "output_type": "stream",
          "name": "stdout",
          "text": [
            "313/313 [==============================] - 3s 5ms/step - loss: 0.3017 - accuracy: 0.9166\n"
          ]
        },
        {
          "output_type": "execute_result",
          "data": {
            "text/plain": [
              "[0.30167078971862793, 0.9165999889373779]"
            ]
          },
          "metadata": {},
          "execution_count": 81
        }
      ]
    },
    {
      "cell_type": "markdown",
      "source": [
        "#### Post-processing"
      ],
      "metadata": {
        "id": "Ly9vGLgGZ291"
      }
    },
    {
      "cell_type": "code",
      "source": [
        "pred = model.predict(test_x[:1])"
      ],
      "metadata": {
        "colab": {
          "base_uri": "https://localhost:8080/"
        },
        "id": "jTwx_a9OdHYO",
        "outputId": "15e16813-db6d-41bd-f5d4-6decc311d2ee"
      },
      "execution_count": 83,
      "outputs": [
        {
          "output_type": "stream",
          "name": "stdout",
          "text": [
            "1/1 [==============================] - 0s 48ms/step\n"
          ]
        }
      ]
    },
    {
      "cell_type": "code",
      "source": [
        "pred.argmax()"
      ],
      "metadata": {
        "colab": {
          "base_uri": "https://localhost:8080/"
        },
        "id": "YRUVG-YAdK33",
        "outputId": "51c56aae-2ecc-49cf-902b-27b598bf8478"
      },
      "execution_count": 84,
      "outputs": [
        {
          "output_type": "execute_result",
          "data": {
            "text/plain": [
              "7"
            ]
          },
          "metadata": {},
          "execution_count": 84
        }
      ]
    },
    {
      "cell_type": "code",
      "source": [
        "sample_img = test_x[0].reshape((28,28)) * 255"
      ],
      "metadata": {
        "id": "u9xPq51IdaF8"
      },
      "execution_count": 87,
      "outputs": []
    },
    {
      "cell_type": "code",
      "source": [
        "plt.imshow(sample_img)\n",
        "plt.title(f'Predicted as:  {pred.argmax()}')\n",
        "plt.show()"
      ],
      "metadata": {
        "colab": {
          "base_uri": "https://localhost:8080/",
          "height": 452
        },
        "id": "MCIEKl56drLH",
        "outputId": "a0d98706-a6e4-497e-872d-13667d5e1f85"
      },
      "execution_count": 90,
      "outputs": [
        {
          "output_type": "display_data",
          "data": {
            "text/plain": [
              "<Figure size 640x480 with 1 Axes>"
            ],
            "image/png": "[encoded data removed]"
          },
          "metadata": {}
        }
      ]
    },
    {
      "cell_type": "code",
      "source": [
        "preds = model.predict(test_x)\n",
        "pred_classes = np.argmax(preds, axis=1)\n",
        "true_classes = np.argmax(test_y, axis=1)\n",
        "\n",
        "# Find the indices where predictions and actual values don't match\n",
        "incorrect_indices = np.where(pred_classes != true_classes)[0]\n",
        "\n",
        "# Randomly select 9 incorrect samples\n",
        "incorrect_sample_indices = np.random.choice(incorrect_indices, 9, replace=False)\n",
        "\n",
        "# Create a 3x3 subplot\n",
        "fig, axes = plt.subplots(3, 3, figsize=(9, 9))\n",
        "fig.suptitle('Incorrect predictions')\n",
        "\n",
        "# Loop through the subplot and add the images\n",
        "for i, ax in enumerate(axes.flat):\n",
        "    # Use incorrect_sample_indices to get the actual image index\n",
        "    img_idx = incorrect_sample_indices[i]\n",
        "    ax.imshow(test_x[img_idx].reshape(28, 28) * 255, cmap='gray')\n",
        "    ax.set_title(f'Pred: {pred_classes[img_idx]}, True: {true_classes[img_idx]}')\n",
        "    ax.axis('off')\n",
        "\n",
        "# Display the plot\n",
        "plt.show()"
      ],
      "metadata": {
        "colab": {
          "base_uri": "https://localhost:8080/",
          "height": 782
        },
        "id": "8D0q7YfoduKj",
        "outputId": "1902c392-2e69-494d-c3e3-cbc9b21be4ed"
      },
      "execution_count": 91,
      "outputs": [
        {
          "output_type": "stream",
          "name": "stdout",
          "text": [
            "313/313 [==============================] - 1s 4ms/step\n"
          ]
        },
        {
          "output_type": "display_data",
          "data": {
            "text/plain": [
              "<Figure size 900x900 with 9 Axes>"
            ],
            "image/png": "[encoded data removed]"
          },
          "metadata": {}
        }
      ]
    },
    {
      "cell_type": "code",
      "source": [],
      "metadata": {
        "id": "HbAIlU5IfSPw"
      },
      "execution_count": null,
      "outputs": []
    }
  ]
}