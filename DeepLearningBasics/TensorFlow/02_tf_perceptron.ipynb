{
  "nbformat": 4,
  "nbformat_minor": 0,
  "metadata": {
    "colab": {
      "provenance": [],
      "authorship_tag": "ABX9TyPtLc3kAboStpd1zTcUszhS",
      "include_colab_link": true
    },
    "kernelspec": {
      "name": "python3",
      "display_name": "Python 3"
    },
    "language_info": {
      "name": "python"
    }
  },
  "cells": [
    {
      "cell_type": "markdown",
      "metadata": {
        "id": "view-in-github",
        "colab_type": "text"
      },
      "source": [
        "<a href=\"https://colab.research.google.com/github/dchlseo/DataScienceProjects/blob/main/DeepLearningBasics/TensorFlow/02_tf_perceptron.ipynb\" target=\"_parent\"><img src=\"https://colab.research.google.com/assets/colab-badge.svg\" alt=\"Open In Colab\"/></a>"
      ]
    },
    {
      "cell_type": "code",
      "execution_count": 4,
      "metadata": {
        "id": "jUWfKf0c6eyW"
      },
      "outputs": [],
      "source": [
        "import tensorflow as tf\n",
        "import numpy as np\n",
        "\n",
        "from sklearn.datasets import load_iris # practice dataset"
      ]
    },
    {
      "cell_type": "markdown",
      "source": [
        "__Activation function: Hyperbolic tangent function__\n",
        "\n",
        "$\\Large{ \\hat{y} = tanh(w^Tx) }$\n",
        "\n",
        "- The tanh function outputs values that range from 1 to 1, which is a normalized range that can sometimes make learning more stable and faster.\n",
        "\n",
        "__Cost function (hinge loss)__\n",
        "\n",
        "$\n",
        "\\large{\n",
        "Loss = \\sum_{i=1}^N \\max(0, -y_i \\hat{y_i})\n",
        "}\n",
        "$\n",
        "\n",
        "- Commonly used in machine learning for \"maximum-margin\" classification tasks, such as Support Vector Machines (SVMs). It is particularly used for binary classification problems."
      ],
      "metadata": {
        "id": "fXawFZO97HWT"
      }
    },
    {
      "cell_type": "code",
      "source": [
        "iris = load_iris()\n",
        "print(iris.DESCR)"
      ],
      "metadata": {
        "colab": {
          "base_uri": "https://localhost:8080/"
        },
        "id": "ZkEt5FMO7Q-4",
        "outputId": "63243515-6a74-4d91-8467-af0ba1133090"
      },
      "execution_count": 5,
      "outputs": [
        {
          "output_type": "stream",
          "name": "stdout",
          "text": [
            ".. _iris_dataset:\n",
            "\n",
            "Iris plants dataset\n",
            "--------------------\n",
            "\n",
            "**Data Set Characteristics:**\n",
            "\n",
            "    :Number of Instances: 150 (50 in each of three classes)\n",
            "    :Number of Attributes: 4 numeric, predictive attributes and the class\n",
            "    :Attribute Information:\n",
            "        - sepal length in cm\n",
            "        - sepal width in cm\n",
            "        - petal length in cm\n",
            "        - petal width in cm\n",
            "        - class:\n",
            "                - Iris-Setosa\n",
            "                - Iris-Versicolour\n",
            "                - Iris-Virginica\n",
            "                \n",
            "    :Summary Statistics:\n",
            "\n",
            "    ============== ==== ==== ======= ===== ====================\n",
            "                    Min  Max   Mean    SD   Class Correlation\n",
            "    ============== ==== ==== ======= ===== ====================\n",
            "    sepal length:   4.3  7.9   5.84   0.83    0.7826\n",
            "    sepal width:    2.0  4.4   3.05   0.43   -0.4194\n",
            "    petal length:   1.0  6.9   3.76   1.76    0.9490  (high!)\n",
            "    petal width:    0.1  2.5   1.20   0.76    0.9565  (high!)\n",
            "    ============== ==== ==== ======= ===== ====================\n",
            "\n",
            "    :Missing Attribute Values: None\n",
            "    :Class Distribution: 33.3% for each of 3 classes.\n",
            "    :Creator: R.A. Fisher\n",
            "    :Donor: Michael Marshall (MARSHALL%PLU@io.arc.nasa.gov)\n",
            "    :Date: July, 1988\n",
            "\n",
            "The famous Iris database, first used by Sir R.A. Fisher. The dataset is taken\n",
            "from Fisher's paper. Note that it's the same as in R, but not as in the UCI\n",
            "Machine Learning Repository, which has two wrong data points.\n",
            "\n",
            "This is perhaps the best known database to be found in the\n",
            "pattern recognition literature.  Fisher's paper is a classic in the field and\n",
            "is referenced frequently to this day.  (See Duda & Hart, for example.)  The\n",
            "data set contains 3 classes of 50 instances each, where each class refers to a\n",
            "type of iris plant.  One class is linearly separable from the other 2; the\n",
            "latter are NOT linearly separable from each other.\n",
            "\n",
            ".. topic:: References\n",
            "\n",
            "   - Fisher, R.A. \"The use of multiple measurements in taxonomic problems\"\n",
            "     Annual Eugenics, 7, Part II, 179-188 (1936); also in \"Contributions to\n",
            "     Mathematical Statistics\" (John Wiley, NY, 1950).\n",
            "   - Duda, R.O., & Hart, P.E. (1973) Pattern Classification and Scene Analysis.\n",
            "     (Q327.D83) John Wiley & Sons.  ISBN 0-471-22361-1.  See page 218.\n",
            "   - Dasarathy, B.V. (1980) \"Nosing Around the Neighborhood: A New System\n",
            "     Structure and Classification Rule for Recognition in Partially Exposed\n",
            "     Environments\".  IEEE Transactions on Pattern Analysis and Machine\n",
            "     Intelligence, Vol. PAMI-2, No. 1, 67-71.\n",
            "   - Gates, G.W. (1972) \"The Reduced Nearest Neighbor Rule\".  IEEE Transactions\n",
            "     on Information Theory, May 1972, 431-433.\n",
            "   - See also: 1988 MLC Proceedings, 54-64.  Cheeseman et al\"s AUTOCLASS II\n",
            "     conceptual clustering system finds 3 classes in the data.\n",
            "   - Many, many more ...\n"
          ]
        }
      ]
    },
    {
      "cell_type": "code",
      "source": [
        "# use only subset of data\n",
        "idx = np.in1d(iris.target, [0, 2])\n",
        "X_data = iris.data[idx, 0:2]\n",
        "y_data = (iris.target[idx] - 1.0)[:, np.newaxis]"
      ],
      "metadata": {
        "id": "0t2IMqCb9sBM"
      },
      "execution_count": 6,
      "outputs": []
    },
    {
      "cell_type": "code",
      "source": [
        "X_data.shape, y_data.shape"
      ],
      "metadata": {
        "colab": {
          "base_uri": "https://localhost:8080/"
        },
        "id": "RAITc75e9wSq",
        "outputId": "f0097d7d-d98a-4bfe-b45c-37c419649f8a"
      },
      "execution_count": 7,
      "outputs": [
        {
          "output_type": "execute_result",
          "data": {
            "text/plain": [
              "((100, 2), (100, 1))"
            ]
          },
          "metadata": {},
          "execution_count": 7
        }
      ]
    },
    {
      "cell_type": "code",
      "source": [
        "num_iter = 500\n",
        "lr = 0.0003"
      ],
      "metadata": {
        "id": "OLk3YUr-9yph"
      },
      "execution_count": 8,
      "outputs": []
    },
    {
      "cell_type": "code",
      "source": [
        "# initialize weight and bias\n",
        "w = tf.Variable(tf.random.normal([2,1], dtype=tf.float64))\n",
        "b = tf.Variable(tf.random.normal([1,1], dtype=tf.float64))"
      ],
      "metadata": {
        "id": "Qm6dbrjA93vg"
      },
      "execution_count": 24,
      "outputs": []
    },
    {
      "cell_type": "code",
      "source": [
        "zero = tf.constant(0, dtype=tf.float64)\n",
        "\n",
        "for epoch in range(num_iter):\n",
        "  for i in range(X_data.shape[0]):\n",
        "    x = X_data[i:i+1]\n",
        "    y = y_data[i:i+1]\n",
        "\n",
        "    with tf.GradientTape() as tape:\n",
        "      logit = tf.matmul(x, w) + b\n",
        "      y_hat = tf.tanh(logit)\n",
        "      loss = tf.maximum(zero, tf.multiply(-y, y_hat)) # zero should be tensor (assigned above)\n",
        "\n",
        "    grad = tape.gradient(loss, [w, b])\n",
        "    w.assign_sub(lr * grad[0])\n",
        "    b.assign_sub(lr * grad[1])"
      ],
      "metadata": {
        "id": "3dMoelQI-xiW"
      },
      "execution_count": 25,
      "outputs": []
    },
    {
      "cell_type": "code",
      "source": [
        "y_pred = tf.tanh(tf.matmul(X_data, w) + b)"
      ],
      "metadata": {
        "id": "F8RGDbjr-6to"
      },
      "execution_count": 26,
      "outputs": []
    },
    {
      "cell_type": "code",
      "source": [
        "X_data.shape, w.shape, b.shape"
      ],
      "metadata": {
        "colab": {
          "base_uri": "https://localhost:8080/"
        },
        "id": "EgaSW7n-B_sF",
        "outputId": "4906f9de-a164-45bc-cabe-a5b83e1bfc83"
      },
      "execution_count": 27,
      "outputs": [
        {
          "output_type": "execute_result",
          "data": {
            "text/plain": [
              "((100, 2), TensorShape([2, 1]), TensorShape([1, 1]))"
            ]
          },
          "metadata": {},
          "execution_count": 27
        }
      ]
    },
    {
      "cell_type": "code",
      "source": [
        "print('Predicted: ', y_pred[0], 'Answer: ', y_data[0])\n",
        "print('Predicted: ', y_pred[13], 'Answer: ', y_data[13])\n",
        "print('Predicted: ', y_pred[50], 'Answer: ', y_data[50])"
      ],
      "metadata": {
        "colab": {
          "base_uri": "https://localhost:8080/"
        },
        "id": "umHh_FTk-_Mi",
        "outputId": "7f3e4a70-9d08-4f89-d973-2e1c21d9f880"
      },
      "execution_count": 32,
      "outputs": [
        {
          "output_type": "stream",
          "name": "stdout",
          "text": [
            "Predicted:  tf.Tensor([-0.12466277], shape=(1,), dtype=float64) Answer:  [-1.]\n",
            "Predicted:  tf.Tensor([-0.2721102], shape=(1,), dtype=float64) Answer:  [-1.]\n",
            "Predicted:  tf.Tensor([0.17045922], shape=(1,), dtype=float64) Answer:  [1.]\n"
          ]
        }
      ]
    },
    {
      "cell_type": "code",
      "source": [
        "# make prediction output consistent with tanh function (range: -1~1)\n",
        "print('Predicted: ', -1 if y_pred[0] < 0 else 1, 'Answer: ', y_data[0])\n",
        "print('Predicted: ', -1 if y_pred[13] < 0 else 1, 'Answer: ', y_data[13])\n",
        "print('Predicted: ', -1 if y_pred[50] < 0 else 1, 'Answer: ', y_data[50])"
      ],
      "metadata": {
        "colab": {
          "base_uri": "https://localhost:8080/"
        },
        "id": "_a2KU8r9_BFk",
        "outputId": "a955b3ac-d7ec-42d7-f2e0-22cd8321d02e"
      },
      "execution_count": 31,
      "outputs": [
        {
          "output_type": "stream",
          "name": "stdout",
          "text": [
            "Predicted:  -1 Answer:  [-1.]\n",
            "Predicted:  -1 Answer:  [-1.]\n",
            "Predicted:  1 Answer:  [1.]\n"
          ]
        }
      ]
    },
    {
      "cell_type": "code",
      "source": [],
      "metadata": {
        "id": "WkT81ogL_ZjQ"
      },
      "execution_count": null,
      "outputs": []
    }
  ]
}