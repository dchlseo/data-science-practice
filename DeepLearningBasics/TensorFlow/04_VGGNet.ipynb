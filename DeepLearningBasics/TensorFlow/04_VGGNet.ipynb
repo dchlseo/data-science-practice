{
  "nbformat": 4,
  "nbformat_minor": 0,
  "metadata": {
    "colab": {
      "provenance": [],
      "authorship_tag": "ABX9TyMmVIEzxxjwjUDNQbp3GXzv",
      "include_colab_link": true
    },
    "kernelspec": {
      "name": "python3",
      "display_name": "Python 3"
    },
    "language_info": {
      "name": "python"
    }
  },
  "cells": [
    {
      "cell_type": "markdown",
      "metadata": {
        "id": "view-in-github",
        "colab_type": "text"
      },
      "source": [
        "<a href=\"https://colab.research.google.com/github/dchlseo/DataScienceProjects/blob/main/DeepLearningBasics/TensorFlow/04_VGGNet.ipynb\" target=\"_parent\"><img src=\"https://colab.research.google.com/assets/colab-badge.svg\" alt=\"Open In Colab\"/></a>"
      ]
    },
    {
      "cell_type": "markdown",
      "source": [
        "## CNN (VGGNet)"
      ],
      "metadata": {
        "id": "lLoq0RIMPxYt"
      }
    },
    {
      "cell_type": "code",
      "execution_count": 1,
      "metadata": {
        "id": "1dVTgtqkNjSk"
      },
      "outputs": [],
      "source": [
        "import numpy as np\n",
        "import pandas as pd\n",
        "import tensorflow as tf\n",
        "\n",
        "import matplotlib.pyplot as plt\n",
        "import seaborn as sns\n",
        "%matplotlib inline"
      ]
    },
    {
      "cell_type": "code",
      "source": [
        "np.random.seed(7777)\n",
        "tf.random.set_seed(7777)"
      ],
      "metadata": {
        "id": "jbBgvd4dOKq0"
      },
      "execution_count": 2,
      "outputs": []
    },
    {
      "cell_type": "markdown",
      "source": [
        "### Data Import"
      ],
      "metadata": {
        "id": "FirVSkM7PR35"
      }
    },
    {
      "cell_type": "code",
      "source": [
        "class DataLoader():\n",
        "\n",
        "  def __init__(self):\n",
        "    (self.train_x, self.train_y), \\\n",
        "      (self.test_x, self.test_y) = tf.keras.datasets.mnist.load_data()\n",
        "\n",
        "  def validate_pixel_scale(self, x):\n",
        "    return 255 >= x.max() and 0 <= x.min()\n",
        "\n",
        "  def scale(self, x):\n",
        "    return (x/255.0).astype(np.float32)  # range 0~1\n",
        "\n",
        "  def preprocess_dataset(self, dataset):\n",
        "    (feature, target) = dataset\n",
        "\n",
        "    validated_x = np.array([x for x in feature if self.validate_pixel_scale(x)])\n",
        "    validated_y = np.array([y for x, y in zip(feature, target) if self.validate_pixel_scale(x)])\n",
        "\n",
        "    # scaling\n",
        "    scaled_x = np.array([self.scale(x) for x in validated_x])\n",
        "\n",
        "    # expand\n",
        "    expanded_x = scaled_x[:, :, :, np.newaxis]  # new axis is for color (1=gray, 3=color)\n",
        "\n",
        "    # label encoding\n",
        "    ohe_y = np.array([tf.keras.utils.to_categorical(y, num_classes=10) for y in validated_y])\n",
        "\n",
        "    return expanded_x, ohe_y\n",
        "\n",
        "  def get_train_dataset(self):\n",
        "    return self.preprocess_dataset((self.train_x, self.train_y))\n",
        "\n",
        "  def get_test_dataset(self):\n",
        "    return self.preprocess_dataset((self.test_x, self.test_y))\n"
      ],
      "metadata": {
        "id": "UkHk5NYjOMfZ"
      },
      "execution_count": 5,
      "outputs": []
    },
    {
      "cell_type": "code",
      "source": [
        "mnist_loader = DataLoader()\n",
        "train_x, train_y = mnist_loader.get_train_dataset()\n",
        "test_x, test_y = mnist_loader.get_test_dataset()\n",
        "\n",
        "print(train_x.shape, train_x.dtype)\n",
        "print(train_y.shape, train_y.dtype)\n",
        "\n",
        "print(test_x.shape, test_x.dtype)\n",
        "print(test_y.shape, test_y.dtype)"
      ],
      "metadata": {
        "colab": {
          "base_uri": "https://localhost:8080/"
        },
        "id": "dX2cDwvEOX4x",
        "outputId": "ac80f62c-bc1e-43df-af67-b796ef922948"
      },
      "execution_count": 6,
      "outputs": [
        {
          "output_type": "stream",
          "name": "stdout",
          "text": [
            "Downloading data from https://storage.googleapis.com/tensorflow/tf-keras-datasets/mnist.npz\n",
            "11490434/11490434 [==============================] - 0s 0us/step\n",
            "(60000, 28, 28, 1) float32\n",
            "(60000, 10) float32\n",
            "(10000, 28, 28, 1) float32\n",
            "(10000, 10) float32\n"
          ]
        }
      ]
    },
    {
      "cell_type": "markdown",
      "source": [
        "### Layers"
      ],
      "metadata": {
        "id": "N6Z3f7HUO8BS"
      }
    },
    {
      "cell_type": "markdown",
      "source": [
        "Layers used in VGGNet:\n",
        " - `tf.keras.layers.Conv2D`\n",
        " - `tf.keras.layers.Activation`\n",
        " - `tf.keras.layers.MaxPool2D`\n",
        " - `tf.keras.layers.Flatten`\n",
        " - `tf.keras.layers.Dense`\n",
        "\n",
        "\n",
        ""
      ],
      "metadata": {
        "id": "kakBnmGBP6H9"
      }
    },
    {
      "cell_type": "markdown",
      "source": [
        "__Conv2D__\n",
        " - filters: layer에서 사용할 Filter(weights)의 갯수\n",
        " - kernel_size: Filter(weights)의 사이즈\n",
        " - strides: 몇 개의 pixel을 skip 하면서 훑어지나갈 것인지 (출력 피쳐맵의 사이즈에 영향을 줌)\n",
        " - padding: zero padding을 만들 것인지. VALID는 Padding이 없고, SAME은 Padding이 있음 (출력 피쳐맵의 사이즈에 영향을 줌)\n",
        " - activation: Activation Function을 지정"
      ],
      "metadata": {
        "id": "JJ8XWhSBQ0AA"
      }
    },
    {
      "cell_type": "code",
      "source": [
        "# filters=64, kernel size=3x3, strides=1, padding='same', activation='relu'\n",
        "\n",
        "tf.keras.layers.Conv2D(64, 3, 1, padding='same', activation='relu')"
      ],
      "metadata": {
        "colab": {
          "base_uri": "https://localhost:8080/"
        },
        "id": "vLpu-xZ7QBJU",
        "outputId": "61bb8fa9-da3c-45b6-c4dc-3cfed29964ad"
      },
      "execution_count": 9,
      "outputs": [
        {
          "output_type": "execute_result",
          "data": {
            "text/plain": [
              "<keras.src.layers.convolutional.conv2d.Conv2D at 0x7a993728b280>"
            ]
          },
          "metadata": {},
          "execution_count": 9
        }
      ]
    },
    {
      "cell_type": "markdown",
      "source": [
        "__MaxPool2D__\n",
        "\n",
        "- pool_size: Pooling window 크기\n",
        "- strides: 몇 개의 pixel을 skip 하면서 훑어지나갈 것인지\n",
        "- padding: zero padding을 만들 것인지"
      ],
      "metadata": {
        "id": "zM9oqUB-QGdj"
      }
    },
    {
      "cell_type": "code",
      "source": [
        "tf.keras.layers.MaxPool2D"
      ],
      "metadata": {
        "colab": {
          "base_uri": "https://localhost:8080/"
        },
        "id": "WPImkfkqRAik",
        "outputId": "55171abf-1475-493d-a48a-56b4444b903a"
      },
      "execution_count": 11,
      "outputs": [
        {
          "output_type": "execute_result",
          "data": {
            "text/plain": [
              "keras.src.layers.pooling.max_pooling2d.MaxPooling2D"
            ]
          },
          "metadata": {},
          "execution_count": 11
        }
      ]
    },
    {
      "cell_type": "markdown",
      "source": [
        "__Dense__\n",
        "\n",
        "- units : 노드 갯수\n",
        "- activation : 활성화 함수\n",
        "- use_bias : bias 를 사용 할 것인지\n",
        "- kernel_initializer : 최초 가중치를 어떻게 세팅 할 것인지\n",
        "- bias_initializer : 최초 bias를 어떻게 세팅 할 것인지"
      ],
      "metadata": {
        "id": "YqJFpeK-RKVe"
      }
    },
    {
      "cell_type": "code",
      "source": [
        "tf.keras.layers.Dense"
      ],
      "metadata": {
        "colab": {
          "base_uri": "https://localhost:8080/"
        },
        "id": "c0F0Zxs-RXDu",
        "outputId": "834b011f-17da-481a-b2b0-c1f41c794580"
      },
      "execution_count": 12,
      "outputs": [
        {
          "output_type": "execute_result",
          "data": {
            "text/plain": [
              "keras.src.layers.core.dense.Dense"
            ]
          },
          "metadata": {},
          "execution_count": 12
        }
      ]
    },
    {
      "cell_type": "markdown",
      "source": [
        "### Modeling"
      ],
      "metadata": {
        "id": "ppX1NXgZRZZ8"
      }
    },
    {
      "cell_type": "code",
      "source": [
        "from tensorflow.keras.layers import Conv2D, MaxPool2D, Flatten, Dense"
      ],
      "metadata": {
        "id": "cHuxv1jqRnZ2"
      },
      "execution_count": 13,
      "outputs": []
    },
    {
      "cell_type": "code",
      "source": [
        "model = tf.keras.Sequential()"
      ],
      "metadata": {
        "id": "4PZ8SRNvRsfP"
      },
      "execution_count": 14,
      "outputs": []
    },
    {
      "cell_type": "code",
      "source": [
        "model.add(Conv2D(filters=32, kernel_size=3, padding='same', activation='relu', input_shape=(28,28,1))) # first layer requires input shape\n",
        "model.add(Conv2D(filters=32, kernel_size=3, padding='same', activation='relu'))\n",
        "model.add(MaxPool2D()) # default pool_size = (2,2)\n",
        "model.add(Conv2D(filters=64, kernel_size=3, padding='same', activation='relu'))\n",
        "model.add(Conv2D(filters=64, kernel_size=3, padding='same', activation='relu'))\n",
        "model.add(MaxPool2D())\n",
        "model.add(Flatten())\n",
        "model.add(Dense(128, activation='relu'))\n",
        "model.add(Dense(64, activation='relu'))\n",
        "model.add(Dense(10, activation='softmax'))"
      ],
      "metadata": {
        "id": "DJRUGi64RydD"
      },
      "execution_count": 16,
      "outputs": []
    },
    {
      "cell_type": "code",
      "source": [
        "model.summary()"
      ],
      "metadata": {
        "colab": {
          "base_uri": "https://localhost:8080/"
        },
        "id": "uk8QLOWwSNvA",
        "outputId": "9a348c4b-cf01-438c-f8d4-fe19b27dc505"
      },
      "execution_count": 17,
      "outputs": [
        {
          "output_type": "stream",
          "name": "stdout",
          "text": [
            "Model: \"sequential\"\n",
            "_________________________________________________________________\n",
            " Layer (type)                Output Shape              Param #   \n",
            "=================================================================\n",
            " conv2d_1 (Conv2D)           (None, 28, 28, 32)        320       \n",
            "                                                                 \n",
            " conv2d_2 (Conv2D)           (None, 28, 28, 32)        9248      \n",
            "                                                                 \n",
            " conv2d_3 (Conv2D)           (None, 28, 28, 32)        9248      \n",
            "                                                                 \n",
            " max_pooling2d (MaxPooling2  (None, 14, 14, 32)        0         \n",
            " D)                                                              \n",
            "                                                                 \n",
            " conv2d_4 (Conv2D)           (None, 14, 14, 64)        18496     \n",
            "                                                                 \n",
            " conv2d_5 (Conv2D)           (None, 14, 14, 64)        36928     \n",
            "                                                                 \n",
            " max_pooling2d_1 (MaxPoolin  (None, 7, 7, 64)          0         \n",
            " g2D)                                                            \n",
            "                                                                 \n",
            " flatten (Flatten)           (None, 3136)              0         \n",
            "                                                                 \n",
            " dense (Dense)               (None, 128)               401536    \n",
            "                                                                 \n",
            " dense_1 (Dense)             (None, 64)                8256      \n",
            "                                                                 \n",
            " dense_2 (Dense)             (None, 10)                650       \n",
            "                                                                 \n",
            "=================================================================\n",
            "Total params: 484682 (1.85 MB)\n",
            "Trainable params: 484682 (1.85 MB)\n",
            "Non-trainable params: 0 (0.00 Byte)\n",
            "_________________________________________________________________\n"
          ]
        }
      ]
    },
    {
      "cell_type": "code",
      "source": [
        "lr = 0.03\n",
        "opt = tf.keras.optimizers.Adam(lr)\n",
        "loss = tf.keras.losses.categorical_crossentropy\n",
        "\n",
        "model.compile(optimizer=opt, loss=loss, metrics=['accuracy'])"
      ],
      "metadata": {
        "id": "n1xBSGsBSzWw"
      },
      "execution_count": 18,
      "outputs": []
    },
    {
      "cell_type": "code",
      "source": [
        "hist = model.fit(train_x, train_y, epochs=10, batch_size=128, validation_data=(test_x, test_y))"
      ],
      "metadata": {
        "colab": {
          "base_uri": "https://localhost:8080/"
        },
        "id": "Q77kDYeVUMqR",
        "outputId": "325c99f8-eb2c-467a-9731-89573e803a77"
      },
      "execution_count": null,
      "outputs": [
        {
          "output_type": "stream",
          "name": "stdout",
          "text": [
            "Epoch 1/10\n",
            "469/469 [==============================] - 380s 810ms/step - loss: 2.3032 - accuracy: 0.1102 - val_loss: 2.3015 - val_accuracy: 0.1135\n",
            "Epoch 2/10\n",
            "469/469 [==============================] - 323s 688ms/step - loss: 2.3030 - accuracy: 0.1071 - val_loss: 2.3030 - val_accuracy: 0.1135\n",
            "Epoch 3/10\n",
            "426/469 [==========================>...] - ETA: 27s - loss: 2.3030 - accuracy: 0.1064"
          ]
        }
      ]
    },
    {
      "cell_type": "code",
      "source": [
        "hist.history"
      ],
      "metadata": {
        "colab": {
          "base_uri": "https://localhost:8080/"
        },
        "id": "3lA6dRNAUZ_M",
        "outputId": "7cb2deeb-521d-4ba7-bafe-b1ccbe6b466b"
      },
      "execution_count": 22,
      "outputs": [
        {
          "output_type": "execute_result",
          "data": {
            "text/plain": [
              "{'loss': [2.30324649810791,\n",
              "  2.3030359745025635,\n",
              "  2.3031022548675537,\n",
              "  2.302686929702759,\n",
              "  2.302983522415161,\n",
              "  2.303197145462036,\n",
              "  2.303199052810669,\n",
              "  2.303281784057617,\n",
              "  2.3033738136291504,\n",
              "  2.3033909797668457],\n",
              " 'accuracy': [0.11016666889190674,\n",
              "  0.10705000162124634,\n",
              "  0.10708333551883698,\n",
              "  0.10989999771118164,\n",
              "  0.10913333296775818,\n",
              "  0.10723333060741425,\n",
              "  0.10805000364780426,\n",
              "  0.10713333636522293,\n",
              "  0.10864999890327454,\n",
              "  0.1060333326458931],\n",
              " 'val_loss': [2.3014538288116455,\n",
              "  2.3030102252960205,\n",
              "  2.303572177886963,\n",
              "  2.3038628101348877,\n",
              "  2.3036842346191406,\n",
              "  2.3045644760131836,\n",
              "  2.3037259578704834,\n",
              "  2.302751064300537,\n",
              "  2.302884101867676,\n",
              "  2.302565813064575],\n",
              " 'val_accuracy': [0.11349999904632568,\n",
              "  0.11349999904632568,\n",
              "  0.11349999904632568,\n",
              "  0.11349999904632568,\n",
              "  0.11349999904632568,\n",
              "  0.11349999904632568,\n",
              "  0.10279999673366547,\n",
              "  0.11349999904632568,\n",
              "  0.11349999904632568,\n",
              "  0.10279999673366547]}"
            ]
          },
          "metadata": {},
          "execution_count": 22
        }
      ]
    },
    {
      "cell_type": "code",
      "source": [
        "plt.figure(figsize=(10,5))\n",
        "plt.subplot(221)\n",
        "plt.plot(hist.history['loss'])\n",
        "plt.title('loss')\n",
        "plt.subplot(222)\n",
        "plt.plot(hist.history['accuracy'])\n",
        "plt.title('accuracy')\n",
        "plt.subplot(223)\n",
        "plt.plot(hist.history['val_loss'])\n",
        "plt.title('val_loss')\n",
        "plt.subplot(224)\n",
        "plt.plot(hist.history['val_accuracy'])\n",
        "plt.title('val_accuracy')\n",
        "\n",
        "plt.tight_layout()\n",
        "plt.show()"
      ],
      "metadata": {
        "colab": {
          "base_uri": "https://localhost:8080/",
          "height": 329
        },
        "id": "Uh7R5-zGUnac",
        "outputId": "3609bd25-7715-41b3-df14-92673eb8c534"
      },
      "execution_count": 23,
      "outputs": [
        {
          "output_type": "display_data",
          "data": {
            "text/plain": [
              "<Figure size 1000x500 with 4 Axes>"
            ],
            "image/png": "[encoded data removed]"
          },
          "metadata": {}
        }
      ]
    },
    {
      "cell_type": "code",
      "source": [],
      "metadata": {
        "id": "_p-AJd6RVJmm"
      },
      "execution_count": null,
      "outputs": []
    }
  ]
}