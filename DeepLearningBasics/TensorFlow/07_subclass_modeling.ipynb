{
  "nbformat": 4,
  "nbformat_minor": 0,
  "metadata": {
    "colab": {
      "provenance": [],
      "authorship_tag": "ABX9TyPunDfpWVquiLMQ8WibtNWQ",
      "include_colab_link": true
    },
    "kernelspec": {
      "name": "python3",
      "display_name": "Python 3"
    },
    "language_info": {
      "name": "python"
    }
  },
  "cells": [
    {
      "cell_type": "markdown",
      "metadata": {
        "id": "view-in-github",
        "colab_type": "text"
      },
      "source": [
        "<a href=\"https://colab.research.google.com/github/dchlseo/DataScienceProjects/blob/main/DeepLearningBasics/TensorFlow/07_subclass_modeling.ipynb\" target=\"_parent\"><img src=\"https://colab.research.google.com/assets/colab-badge.svg\" alt=\"Open In Colab\"/></a>"
      ]
    },
    {
      "cell_type": "markdown",
      "source": [
        "## Subclass modeling in TensorFlow\n",
        "- https://www.tensorflow.org/guide/keras/custom_layers_and_models?hl=ko"
      ],
      "metadata": {
        "id": "0vyyG5-9Lrz6"
      }
    },
    {
      "cell_type": "code",
      "execution_count": 1,
      "metadata": {
        "id": "YTlbwdvYH0zD"
      },
      "outputs": [],
      "source": [
        "import numpy as np\n",
        "import pandas as pd\n",
        "import tensorflow as tf\n",
        "\n",
        "import matplotlib.pyplot as plt\n",
        "import seaborn as sns\n",
        "%matplotlib inline"
      ]
    },
    {
      "cell_type": "code",
      "source": [
        "np.random.seed(7777)\n",
        "tf.random.set_seed(7777)"
      ],
      "metadata": {
        "id": "IsG9Nl3fINmX"
      },
      "execution_count": 2,
      "outputs": []
    },
    {
      "cell_type": "markdown",
      "source": [
        "### Linear regression using layers"
      ],
      "metadata": {
        "id": "O-PtpYKQIQtI"
      }
    },
    {
      "cell_type": "code",
      "source": [
        "class LinearRegression(tf.keras.layers.Layer):\n",
        "    def __init__(self, units):\n",
        "        super(LinearRegression, self).__init__()\n",
        "        self.units = units\n",
        "\n",
        "    def build(self, input_shape):\n",
        "        self.w = self.add_weight(\n",
        "            shape=(input_shape[-1], self.units),\n",
        "            initializer=\"random_normal\",\n",
        "            trainable=True,\n",
        "        )\n",
        "        self.b = tf.Variable(0.0)\n",
        "\n",
        "    def call(self, inputs):\n",
        "        return tf.matmul(inputs, self.w) + self.b"
      ],
      "metadata": {
        "id": "TXFxYpUFJ4xT"
      },
      "execution_count": 15,
      "outputs": []
    },
    {
      "cell_type": "code",
      "source": [
        "# mock data\n",
        "W_true = np.array([[3., 2., 4., 1.]]).reshape((4, 1))\n",
        "B_true = np.array([1.])\n",
        "\n",
        "X = tf.random.normal((500, 4))\n",
        "noise = tf.random.normal((500, 1))\n",
        "\n",
        "y = X @ W_true + B_true + noise"
      ],
      "metadata": {
        "id": "73Mf3a1jMS2X"
      },
      "execution_count": 16,
      "outputs": []
    },
    {
      "cell_type": "code",
      "source": [
        "# Define the optimizer to be used for gradient descent.\n",
        "# Here, Stochastic Gradient Descent (SGD) is used with a learning rate of 0.03.\n",
        "opt = tf.keras.optimizers.SGD(learning_rate=3e-2)\n",
        "\n",
        "# Instantiate the custom LinearRegression layer with one output unit.\n",
        "linear_layer = LinearRegression(1)\n",
        "\n",
        "# Run a training loop for 100 epochs.\n",
        "for epoch in range(100):\n",
        "    # Open a GradientTape to record the operations run\n",
        "    # during the forward pass, which enables auto-differentiation.\n",
        "    with tf.GradientTape() as tape:\n",
        "        # Call the linear_layer to compute predictions (y_hat) given inputs (X).\n",
        "        y_hat = linear_layer(X)\n",
        "        # Compute the mean squared error (loss) between the predictions and the actual targets (y).\n",
        "        loss = tf.reduce_mean(tf.square((y - y_hat)))\n",
        "    # Use the gradient tape to automatically retrieve\n",
        "    # the gradients of the trainable variables with respect to the loss.\n",
        "    grads = tape.gradient(loss, linear_layer.trainable_weights)\n",
        "\n",
        "    # Apply the gradients to the variables using the SGD optimizer.\n",
        "    opt.apply_gradients(zip(grads, linear_layer.trainable_weights))\n",
        "\n",
        "    if epoch % 10 == 0:\n",
        "        print(\"epoch : {} loss : {}\".format(epoch, loss.numpy()))"
      ],
      "metadata": {
        "colab": {
          "base_uri": "https://localhost:8080/"
        },
        "id": "_QOIhyUfNsqj",
        "outputId": "01db6fb8-a41f-43cc-a117-77fb9762fd5d"
      },
      "execution_count": 18,
      "outputs": [
        {
          "output_type": "stream",
          "name": "stdout",
          "text": [
            "epoch : 0 loss : 31.27263641357422\n",
            "epoch : 10 loss : 10.203272819519043\n",
            "epoch : 20 loss : 3.7826313972473145\n",
            "epoch : 30 loss : 1.8218048810958862\n",
            "epoch : 40 loss : 1.2217427492141724\n",
            "epoch : 50 loss : 1.0377455949783325\n",
            "epoch : 60 loss : 0.9812194108963013\n",
            "epoch : 70 loss : 0.963822603225708\n",
            "epoch : 80 loss : 0.9584589600563049\n",
            "epoch : 90 loss : 0.9568027257919312\n"
          ]
        }
      ]
    },
    {
      "cell_type": "markdown",
      "source": [
        "### ResNet via Sub Class\n",
        "- Residual blocks -> layers\n",
        "- ResNet -> model"
      ],
      "metadata": {
        "id": "aAzqxPToOKta"
      }
    },
    {
      "cell_type": "code",
      "source": [
        "from tensorflow.keras.layers import Input, Conv2D, MaxPool2D, Flatten, Dense, Add"
      ],
      "metadata": {
        "id": "ZXZqVMQsQHQ7"
      },
      "execution_count": 19,
      "outputs": []
    },
    {
      "cell_type": "code",
      "source": [
        "class ResidualBlock(tf.keras.layers.Layer):\n",
        "    \"\"\"\n",
        "    ResidualBlock is a custom Keras layer representing a single block in a\n",
        "    Residual Network (ResNet). This block has a series of convolutional layers\n",
        "    with skip connections that allow the input to bypass one or more layers.\n",
        "\n",
        "    Attributes:\n",
        "        filters (int): The number of filters to use in the convolutional layers.\n",
        "        filter_match (bool): Whether to match the number of filters in the input\n",
        "                             to the residual block's output. If True, a convolution\n",
        "                             with a 1x1 kernel size is used to adjust the input\n",
        "                             before adding it to the block's output.\n",
        "        conv1 (Conv2D): The first convolutional layer with a 1x1 kernel, applied\n",
        "                        to the input.\n",
        "        conv2 (Conv2D): The second convolutional layer with a 3x3 kernel, applied\n",
        "                        to the output of conv1.\n",
        "        conv3 (Conv2D): The third convolutional layer with a 1x1 kernel, applied\n",
        "                        to the output of conv2.\n",
        "        add (Add): A layer that performs element-wise addition, used to merge the\n",
        "                   input with the output of conv3.\n",
        "        conv_ext (Conv2D): An optional convolutional layer with a 1x1 kernel that\n",
        "                           is only used if filter_match is True, to adjust the input\n",
        "                           filters to match the output filters of the block.\n",
        "    \"\"\"\n",
        "\n",
        "    def __init__(self, filters=32, filter_match=False):\n",
        "        \"\"\"\n",
        "        Initializes the ResidualBlock layer.\n",
        "\n",
        "        Args:\n",
        "            filters (int): The number of filters for the convolutional layers.\n",
        "                           Defaults to 32.\n",
        "            filter_match (bool): If set to True, will include an additional\n",
        "                                 convolutional layer to match the input depth\n",
        "                                 with the depth of the output of this block.\n",
        "                                 Defaults to False.\n",
        "        \"\"\"\n",
        "        super(ResidualBlock, self).__init__()\n",
        "        self.conv1 = Conv2D(filters, kernel_size=1, padding='same', activation='relu')\n",
        "        self.conv2 = Conv2D(filters, kernel_size=3, padding='same', activation='relu')\n",
        "        self.conv3 = Conv2D(filters, kernel_size=1, padding='same', activation='relu')\n",
        "        self.add = Add()\n",
        "        self.filters = filters\n",
        "        self.filter_match = filter_match\n",
        "        if filter_match:\n",
        "            # Define the extra convolutional layer to match the input filters\n",
        "            self.conv_ext = Conv2D(filters, kernel_size=1, padding='same')\n",
        "\n",
        "    def call(self, inputs):\n",
        "        \"\"\"\n",
        "        Performs the forward pass through the residual block.\n",
        "\n",
        "        Args:\n",
        "            inputs (tf.Tensor): The input tensor.\n",
        "\n",
        "        Returns:\n",
        "            tf.Tensor: The output tensor of the residual block.\n",
        "        \"\"\"\n",
        "        net1 = self.conv1(inputs)\n",
        "        net2 = self.conv2(net1)\n",
        "        net3 = self.conv3(net2)\n",
        "\n",
        "        if self.filter_match:\n",
        "            # If filter matching is required, adjust the inputs first\n",
        "            res = self.add([self.conv_ext(inputs), net3])\n",
        "        else:\n",
        "            # If no filter matching is needed, directly add the inputs\n",
        "            res = self.add([inputs, net3])\n",
        "\n",
        "        return res\n"
      ],
      "metadata": {
        "id": "OvJ9SY-gQi76"
      },
      "execution_count": 23,
      "outputs": []
    },
    {
      "cell_type": "code",
      "source": [
        "class ResNet(tf.keras.Model):\n",
        "    \"\"\"\n",
        "    ResNet is a custom model class that extends tf.keras.Model, implementing\n",
        "    a simplified version of the Residual Network architecture for image classification.\n",
        "\n",
        "    The model includes initial convolutional and max pooling layers, followed by\n",
        "    two residual blocks, another max pooling layer, and a dense layer for output.\n",
        "\n",
        "    Attributes:\n",
        "        conv1 (Conv2D): The initial convolutional layer with 32 filters and\n",
        "                        a 3x3 kernel size.\n",
        "        maxp1 (MaxPool2D): The first max pooling layer.\n",
        "        block1 (ResidualBlock): The first residual block with filter matching,\n",
        "                                which adjusts the number of filters to match\n",
        "                                the block's output.\n",
        "        block2 (ResidualBlock): The second residual block without filter matching.\n",
        "        maxp2 (MaxPool2D): The second max pooling layer.\n",
        "        flat (Flatten): A layer that flattens the input for the dense layer.\n",
        "        dense (Dense): The output dense layer that predicts the class probabilities.\n",
        "\n",
        "    Methods:\n",
        "        call(inputs): Defines the forward pass of the model.\n",
        "    \"\"\"\n",
        "\n",
        "    def __init__(self, num_classes):\n",
        "        \"\"\"\n",
        "        Initializes the ResNet model.\n",
        "\n",
        "        Args:\n",
        "            num_classes (int): The number of classes for the classification task.\n",
        "        \"\"\"\n",
        "        super(ResNet, self).__init__()\n",
        "        # Initial convolution and pooling layers\n",
        "        self.conv1 = Conv2D(32, kernel_size=3, strides=2, padding='same', activation='relu')\n",
        "        self.maxp1 = MaxPool2D()\n",
        "\n",
        "        # Residual blocks, with the first one adjusting filters to match\n",
        "        self.block1 = ResidualBlock(64, filter_match=True)\n",
        "        self.block2 = ResidualBlock(64)\n",
        "\n",
        "        # Second pooling and flattening layers\n",
        "        self.maxp2 = MaxPool2D()\n",
        "        self.flat = Flatten()\n",
        "\n",
        "        # Dense layer for classification with number of units equal to num_classes\n",
        "        self.dense = Dense(num_classes)\n",
        "\n",
        "    def call(self, inputs):\n",
        "        \"\"\"\n",
        "        Defines the forward pass of the model.\n",
        "\n",
        "        Args:\n",
        "            inputs (tf.Tensor): The input tensor.\n",
        "\n",
        "        Returns:\n",
        "            tf.Tensor: The output tensor with the probability distribution over classes.\n",
        "        \"\"\"\n",
        "        x = self.conv1(inputs)\n",
        "        x = self.maxp1(x)\n",
        "        x = self.block1(x)\n",
        "        x = self.block2(x)\n",
        "        x = self.maxp2(x)\n",
        "        x = self.flat(x)\n",
        "        return self.dense(x)\n"
      ],
      "metadata": {
        "id": "lL1osFo5Rvqy"
      },
      "execution_count": 24,
      "outputs": []
    },
    {
      "cell_type": "code",
      "source": [
        "model = ResNet(10)"
      ],
      "metadata": {
        "id": "sU1bVQDjT0iP"
      },
      "execution_count": 25,
      "outputs": []
    },
    {
      "cell_type": "code",
      "source": [
        "class DataLoader():\n",
        "\n",
        "  def __init__(self):\n",
        "    (self.train_x, self.train_y), \\\n",
        "      (self.test_x, self.test_y) = tf.keras.datasets.cifar10.load_data()\n",
        "\n",
        "  def validate_pixel_scale(self, x):\n",
        "    return 255 >= x.max() and 0 <= x.min()\n",
        "\n",
        "  def scale(self, x):\n",
        "    return (x/255.0).astype(np.float32)  # range 0~1\n",
        "\n",
        "  def preprocess_dataset(self, dataset):\n",
        "    (feature, target) = dataset\n",
        "\n",
        "    validated_x = np.array([x for x in feature if self.validate_pixel_scale(x)])\n",
        "    validated_y = np.array([y for x, y in zip(feature, target) if self.validate_pixel_scale(x)])\n",
        "\n",
        "    # scaling\n",
        "    scaled_x = np.array([self.scale(x) for x in validated_x])\n",
        "\n",
        "    # # expand\n",
        "    # expanded_x = scaled_x[:, :, :, np.newaxis]  # new axis is for color (1=gray, 3=color)\n",
        "\n",
        "    # label encoding\n",
        "    ohe_y = np.array([tf.keras.utils.to_categorical(y, num_classes=10) for y in validated_y])\n",
        "\n",
        "    return scaled_x, np.squeeze(ohe_y, axis=1)\n",
        "\n",
        "  def get_train_dataset(self):\n",
        "    return self.preprocess_dataset((self.train_x, self.train_y))\n",
        "\n",
        "  def get_test_dataset(self):\n",
        "    return self.preprocess_dataset((self.test_x, self.test_y))\n"
      ],
      "metadata": {
        "id": "XxSGp4_UE2YJ"
      },
      "execution_count": 26,
      "outputs": []
    },
    {
      "cell_type": "code",
      "source": [
        "loader = DataLoader()\n",
        "train_x, train_y = loader.get_train_dataset()\n",
        "test_x, test_y = loader.get_test_dataset()\n",
        "\n",
        "print(train_x.shape, train_x.dtype)\n",
        "print(train_y.shape, train_y.dtype)\n",
        "\n",
        "print(test_x.shape, test_x.dtype)\n",
        "print(test_y.shape, test_y.dtype)"
      ],
      "metadata": {
        "colab": {
          "base_uri": "https://localhost:8080/"
        },
        "id": "9IPec3ZFF6CI",
        "outputId": "582dc46d-5fba-426e-d8c0-65186c9eeb3d"
      },
      "execution_count": 27,
      "outputs": [
        {
          "output_type": "stream",
          "name": "stdout",
          "text": [
            "Downloading data from https://www.cs.toronto.edu/~kriz/cifar-10-python.tar.gz\n",
            "170498071/170498071 [==============================] - 2s 0us/step\n",
            "(50000, 32, 32, 3) float32\n",
            "(50000, 10) float32\n",
            "(10000, 32, 32, 3) float32\n",
            "(10000, 10) float32\n"
          ]
        }
      ]
    },
    {
      "cell_type": "code",
      "source": [
        "lr = 0.03\n",
        "opt = tf.keras.optimizers.Adam(lr)\n",
        "loss = tf.keras.losses.categorical_crossentropy\n",
        "\n",
        "model.compile(optimizer=opt, loss=loss, metrics=['accuracy'])"
      ],
      "metadata": {
        "id": "z9H83OOBF-c2"
      },
      "execution_count": 28,
      "outputs": []
    },
    {
      "cell_type": "code",
      "source": [
        "hist = model.fit(train_x, train_y, epochs=10, batch_size=128, validation_data=(test_x, test_y))"
      ],
      "metadata": {
        "colab": {
          "base_uri": "https://localhost:8080/"
        },
        "id": "fZA7dRX9GQ5g",
        "outputId": "425e79c8-b72b-4180-e8ba-8d63c89453fb"
      },
      "execution_count": 29,
      "outputs": [
        {
          "output_type": "stream",
          "name": "stdout",
          "text": [
            "Epoch 1/10\n",
            "391/391 [==============================] - 68s 162ms/step - loss: 2.6123 - accuracy: 0.1275 - val_loss: 2.2830 - val_accuracy: 0.1366\n",
            "Epoch 2/10\n",
            "391/391 [==============================] - 63s 161ms/step - loss: 2.2626 - accuracy: 0.1405 - val_loss: 2.2732 - val_accuracy: 0.1086\n",
            "Epoch 3/10\n",
            "391/391 [==============================] - 60s 154ms/step - loss: 2.4581 - accuracy: 0.1716 - val_loss: 2.2802 - val_accuracy: 0.0987\n",
            "Epoch 4/10\n",
            "391/391 [==============================] - 65s 167ms/step - loss: 2.2411 - accuracy: 0.1373 - val_loss: 2.1774 - val_accuracy: 0.1468\n",
            "Epoch 5/10\n",
            "391/391 [==============================] - 61s 157ms/step - loss: 7.8294 - accuracy: 0.1042 - val_loss: 8.0590 - val_accuracy: 0.1000\n",
            "Epoch 6/10\n",
            "391/391 [==============================] - 62s 159ms/step - loss: 8.0591 - accuracy: 0.1000 - val_loss: 8.0590 - val_accuracy: 0.1000\n",
            "Epoch 7/10\n",
            "391/391 [==============================] - 60s 154ms/step - loss: 8.0591 - accuracy: 0.1000 - val_loss: 8.0590 - val_accuracy: 0.1000\n",
            "Epoch 8/10\n",
            "391/391 [==============================] - 64s 165ms/step - loss: 8.0591 - accuracy: 0.1000 - val_loss: 8.0590 - val_accuracy: 0.1000\n",
            "Epoch 9/10\n",
            "391/391 [==============================] - 62s 159ms/step - loss: 8.0590 - accuracy: 0.1000 - val_loss: 8.0590 - val_accuracy: 0.1000\n",
            "Epoch 10/10\n",
            "391/391 [==============================] - 60s 153ms/step - loss: 8.0590 - accuracy: 0.1000 - val_loss: 8.0590 - val_accuracy: 0.1000\n"
          ]
        }
      ]
    },
    {
      "cell_type": "code",
      "source": [
        "plt.figure(figsize=(10,5))\n",
        "plt.subplot(221)\n",
        "plt.plot(hist.history['loss'])\n",
        "plt.title('loss')\n",
        "plt.subplot(222)\n",
        "plt.plot(hist.history['accuracy'])\n",
        "plt.title('accuracy')\n",
        "plt.subplot(223)\n",
        "plt.plot(hist.history['val_loss'])\n",
        "plt.title('val_loss')\n",
        "plt.subplot(224)\n",
        "plt.plot(hist.history['val_accuracy'])\n",
        "plt.title('val_accuracy')\n",
        "\n",
        "plt.tight_layout()\n",
        "plt.show()"
      ],
      "metadata": {
        "colab": {
          "base_uri": "https://localhost:8080/",
          "height": 346
        },
        "id": "IBIa_gqXHkGr",
        "outputId": "9625042a-71c2-45e1-84f8-66be9d7fe92b"
      },
      "execution_count": 30,
      "outputs": [
        {
          "output_type": "display_data",
          "data": {
            "text/plain": [
              "<Figure size 1000x500 with 4 Axes>"
            ],
            "image/png": "[encoded data removed]"
          },
          "metadata": {}
        }
      ]
    },
    {
      "cell_type": "code",
      "source": [],
      "metadata": {
        "id": "QgDP04s-Um_R"
      },
      "execution_count": null,
      "outputs": []
    }
  ]
}