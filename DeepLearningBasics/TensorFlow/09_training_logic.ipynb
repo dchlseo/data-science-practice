{
  "nbformat": 4,
  "nbformat_minor": 0,
  "metadata": {
    "colab": {
      "provenance": [],
      "authorship_tag": "ABX9TyOXXzhDMy6TC8VIpgfF/Dqr",
      "include_colab_link": true
    },
    "kernelspec": {
      "name": "python3",
      "display_name": "Python 3"
    },
    "language_info": {
      "name": "python"
    }
  },
  "cells": [
    {
      "cell_type": "markdown",
      "metadata": {
        "id": "view-in-github",
        "colab_type": "text"
      },
      "source": [
        "<a href=\"https://colab.research.google.com/github/dchlseo/DataScienceProjects/blob/main/DeepLearningBasics/TensorFlow/09_training_logic.ipynb\" target=\"_parent\"><img src=\"https://colab.research.google.com/assets/colab-badge.svg\" alt=\"Open In Colab\"/></a>"
      ]
    },
    {
      "cell_type": "code",
      "execution_count": 1,
      "metadata": {
        "id": "NEQbyIWOyJ9K"
      },
      "outputs": [],
      "source": [
        "import numpy as np\n",
        "import pandas as pd\n",
        "import tensorflow as tf\n",
        "\n",
        "import matplotlib.pyplot as plt\n",
        "import seaborn as sns\n",
        "%matplotlib inline"
      ]
    },
    {
      "cell_type": "code",
      "source": [
        "np.random.seed(7777)\n",
        "tf.random.set_seed(7777)"
      ],
      "metadata": {
        "id": "rELnYiXmyONh"
      },
      "execution_count": 2,
      "outputs": []
    },
    {
      "cell_type": "code",
      "source": [
        "class Cifar10DataLoader():\n",
        "    def __init__(self):\n",
        "        # data load\n",
        "        (self.train_x, self.train_y), \\\n",
        "            (self.test_x, self.test_y) = tf.keras.datasets.cifar10.load_data()\n",
        "        self.input_shape = self.train_x.shape[1:]\n",
        "\n",
        "    def scale(self, x):\n",
        "\n",
        "        return (x / 255.0).astype(np.float32)\n",
        "\n",
        "    def preprocess_dataset(self, dataset):\n",
        "\n",
        "        (feature, target) = dataset\n",
        "\n",
        "        # scaling #\n",
        "        scaled_x = np.array([self.scale(x) for x in feature])\n",
        "\n",
        "        # label encoding #\n",
        "        ohe_y = np.array([tf.keras.utils.to_categorical(\n",
        "            y, num_classes=10) for y in target])\n",
        "\n",
        "        return scaled_x, ohe_y.squeeze(1)\n",
        "\n",
        "    def get_train_dataset(self):\n",
        "        return self.preprocess_dataset((self.train_x, self.train_y))\n",
        "\n",
        "    def get_test_dataset(self):\n",
        "        return self.preprocess_dataset((self.test_x, self.test_y))\n",
        "\n",
        "cifar10_loader = Cifar10DataLoader()\n",
        "train_x, train_y = cifar10_loader.get_train_dataset()\n",
        "\n",
        "print(train_x.shape, train_x.dtype)\n",
        "print(train_y.shape, train_y.dtype)\n",
        "\n",
        "test_x, test_y = cifar10_loader.get_test_dataset()\n",
        "\n",
        "print(test_x.shape, test_x.dtype)\n",
        "print(test_y.shape, test_y.dtype)"
      ],
      "metadata": {
        "colab": {
          "base_uri": "https://localhost:8080/"
        },
        "id": "ovIAZSVYyPXc",
        "outputId": "f05ff574-b6c5-476b-bccf-d4f089ceac29"
      },
      "execution_count": 3,
      "outputs": [
        {
          "output_type": "stream",
          "name": "stdout",
          "text": [
            "Downloading data from https://www.cs.toronto.edu/~kriz/cifar-10-python.tar.gz\n",
            "170498071/170498071 [==============================] - 3s 0us/step\n",
            "(50000, 32, 32, 3) float32\n",
            "(50000, 10) float32\n",
            "(10000, 32, 32, 3) float32\n",
            "(10000, 10) float32\n"
          ]
        }
      ]
    },
    {
      "cell_type": "code",
      "source": [
        "from tensorflow.keras.layers import Input, Conv2D, MaxPool2D, Flatten, Dense, Add\n",
        "\n",
        "def build_resnet(input_shape):\n",
        "    inputs = Input(input_shape)\n",
        "\n",
        "    net = Conv2D(32, kernel_size=3, strides=2,\n",
        "                 padding='same', activation='relu')(inputs)\n",
        "    net = MaxPool2D()(net)\n",
        "\n",
        "    net1 = Conv2D(64, kernel_size=1, padding='same', activation='relu')(net)\n",
        "    net2 = Conv2D(64, kernel_size=3, padding='same', activation='relu')(net1)\n",
        "    net3 = Conv2D(64, kernel_size=1, padding='same', activation='relu')(net2)\n",
        "\n",
        "    net1_1 = Conv2D(64, kernel_size=1, padding='same')(net)\n",
        "    net = Add()([net1_1, net3])\n",
        "\n",
        "    net1 = Conv2D(64, kernel_size=1, padding='same', activation='relu')(net)\n",
        "    net2 = Conv2D(64, kernel_size=3, padding='same', activation='relu')(net1)\n",
        "    net3 = Conv2D(64, kernel_size=1, padding='same', activation='relu')(net2)\n",
        "\n",
        "    net = Add()([net, net3])\n",
        "\n",
        "    net = MaxPool2D()(net)\n",
        "\n",
        "    net = Flatten()(net)\n",
        "    net = Dense(10, activation=\"softmax\")(net)\n",
        "\n",
        "    model = tf.keras.Model(inputs=inputs, outputs=net, name='resnet')\n",
        "\n",
        "    return model\n",
        "\n",
        "model = build_resnet((32, 32, 3))\n",
        "model.summary()"
      ],
      "metadata": {
        "colab": {
          "base_uri": "https://localhost:8080/"
        },
        "id": "Xw5B2Iu_yRme",
        "outputId": "6606e5db-46a4-403f-a766-64f1589d9811"
      },
      "execution_count": 4,
      "outputs": [
        {
          "output_type": "stream",
          "name": "stdout",
          "text": [
            "Model: \"resnet\"\n",
            "__________________________________________________________________________________________________\n",
            " Layer (type)                Output Shape                 Param #   Connected to                  \n",
            "==================================================================================================\n",
            " input_1 (InputLayer)        [(None, 32, 32, 3)]          0         []                            \n",
            "                                                                                                  \n",
            " conv2d (Conv2D)             (None, 16, 16, 32)           896       ['input_1[0][0]']             \n",
            "                                                                                                  \n",
            " max_pooling2d (MaxPooling2  (None, 8, 8, 32)             0         ['conv2d[0][0]']              \n",
            " D)                                                                                               \n",
            "                                                                                                  \n",
            " conv2d_1 (Conv2D)           (None, 8, 8, 64)             2112      ['max_pooling2d[0][0]']       \n",
            "                                                                                                  \n",
            " conv2d_2 (Conv2D)           (None, 8, 8, 64)             36928     ['conv2d_1[0][0]']            \n",
            "                                                                                                  \n",
            " conv2d_4 (Conv2D)           (None, 8, 8, 64)             2112      ['max_pooling2d[0][0]']       \n",
            "                                                                                                  \n",
            " conv2d_3 (Conv2D)           (None, 8, 8, 64)             4160      ['conv2d_2[0][0]']            \n",
            "                                                                                                  \n",
            " add (Add)                   (None, 8, 8, 64)             0         ['conv2d_4[0][0]',            \n",
            "                                                                     'conv2d_3[0][0]']            \n",
            "                                                                                                  \n",
            " conv2d_5 (Conv2D)           (None, 8, 8, 64)             4160      ['add[0][0]']                 \n",
            "                                                                                                  \n",
            " conv2d_6 (Conv2D)           (None, 8, 8, 64)             36928     ['conv2d_5[0][0]']            \n",
            "                                                                                                  \n",
            " conv2d_7 (Conv2D)           (None, 8, 8, 64)             4160      ['conv2d_6[0][0]']            \n",
            "                                                                                                  \n",
            " add_1 (Add)                 (None, 8, 8, 64)             0         ['add[0][0]',                 \n",
            "                                                                     'conv2d_7[0][0]']            \n",
            "                                                                                                  \n",
            " max_pooling2d_1 (MaxPoolin  (None, 4, 4, 64)             0         ['add_1[0][0]']               \n",
            " g2D)                                                                                             \n",
            "                                                                                                  \n",
            " flatten (Flatten)           (None, 1024)                 0         ['max_pooling2d_1[0][0]']     \n",
            "                                                                                                  \n",
            " dense (Dense)               (None, 10)                   10250     ['flatten[0][0]']             \n",
            "                                                                                                  \n",
            "==================================================================================================\n",
            "Total params: 101706 (397.29 KB)\n",
            "Trainable params: 101706 (397.29 KB)\n",
            "Non-trainable params: 0 (0.00 Byte)\n",
            "__________________________________________________________________________________________________\n"
          ]
        }
      ]
    },
    {
      "cell_type": "code",
      "source": [
        "lr = 0.03\n",
        "batch_size = 64"
      ],
      "metadata": {
        "id": "4Y68cpiwzINA"
      },
      "execution_count": 5,
      "outputs": []
    },
    {
      "cell_type": "code",
      "source": [
        "opt = tf.keras.optimizers.Adam(lr)\n",
        "loss_fn = tf.keras.losses.categorical_crossentropy\n",
        "train_loss = tf.keras.metrics.Mean()\n",
        "train_acc = tf.keras.metrics.CategoricalAccuracy()"
      ],
      "metadata": {
        "id": "24EoH1OH2s2N"
      },
      "execution_count": 8,
      "outputs": []
    },
    {
      "cell_type": "code",
      "source": [
        "def train_step(x,y):\n",
        "  with tf.GradientTape() as tape:\n",
        "    pred = model(x)\n",
        "    loss = loss_fn(y, pred)\n",
        "\n",
        "  gradients = tape.gradient(loss, model.trainable_variables)\n",
        "  opt.apply_gradients(zip(gradients, model.trainable_variables))\n",
        "\n",
        "  train_loss(y)\n",
        "  train_acc(y, pred)"
      ],
      "metadata": {
        "id": "Uw9T5gK03CYW"
      },
      "execution_count": 10,
      "outputs": []
    },
    {
      "cell_type": "code",
      "source": [
        "@tf.function\n",
        "def train_step(x,y):\n",
        "  with tf.GradientTape() as tape:\n",
        "    pred = model(x)\n",
        "    loss = loss_fn(y, pred)\n",
        "\n",
        "  gradients = tape.gradient(loss, model.trainable_variables)\n",
        "  opt.apply_gradients(zip(gradients, model.trainable_variables))\n",
        "\n",
        "  train_loss(y)\n",
        "  train_acc(y, pred)"
      ],
      "metadata": {
        "id": "2nKEEV676E9H"
      },
      "execution_count": 15,
      "outputs": []
    },
    {
      "cell_type": "code",
      "source": [
        "for epoch in range(1):\n",
        "  for i in range(train_x.shape[0] // batch_size):\n",
        "    idx = i * batch_size\n",
        "    x, y = train_x[idx:idx+batch_size], train_y[idx:idx+batch_size]\n",
        "    train_step(x,y)\n",
        "    print(\"\\r{} / {}\".format(i, train_x.shape[0] // batch_size), end='\\r')\n",
        "  fmt = 'epoch: {} loss: {} acc: {}'\n",
        "  print(fmt.format(epoch+1,\n",
        "                    train_loss.result(),\n",
        "                    train_acc.result() * 100)\n",
        "        )\n",
        "  train_loss.reset_states()\n",
        "  train_acc.reset_states()\n"
      ],
      "metadata": {
        "colab": {
          "base_uri": "https://localhost:8080/"
        },
        "id": "g9D6Qbf-5Z7w",
        "outputId": "3d18aa10-0edb-40f5-af0c-e07d7adbdadc"
      },
      "execution_count": 16,
      "outputs": [
        {
          "output_type": "stream",
          "name": "stdout",
          "text": [
            "epoch: 1 loss: 0.10000000149011612 acc: 15.820913314819336\n"
          ]
        }
      ]
    },
    {
      "cell_type": "code",
      "source": [],
      "metadata": {
        "id": "IgLFk_VG7FB5"
      },
      "execution_count": null,
      "outputs": []
    }
  ]
}