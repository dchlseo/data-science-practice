{
 "cells": [
  {
   "cell_type": "markdown",
   "metadata": {},
   "source": [
    "## Cross entropy loss function\n",
    "- Cross entropy measures the \"distance\" between two probability distributions: the true distribution and the predicted distribution."
   ]
  },
  {
   "cell_type": "code",
   "execution_count": 8,
   "metadata": {},
   "outputs": [],
   "source": [
    "import numpy as np"
   ]
  },
  {
   "cell_type": "code",
   "execution_count": 10,
   "metadata": {},
   "outputs": [],
   "source": [
    "X = np.array([\n",
    "    [0, 0, 1],\n",
    "    [0, 1, 1],\n",
    "    [1, 0, 1],\n",
    "    [1, 1, 1]\n",
    "])\n",
    "\n",
    "D = np.array([\n",
    "    [0], [1], [1], [0]\n",
    "])\n",
    "\n",
    "W1 = 2*np.random.random((4,3)) - 1\n",
    "W2 = 2*np.random.random((1,4)) - 1"
   ]
  },
  {
   "cell_type": "code",
   "execution_count": 12,
   "metadata": {},
   "outputs": [],
   "source": [
    "def sigmoid(x):\n",
    "    return 1.0 / (1.0 + np.exp(-x))"
   ]
  },
  {
   "cell_type": "code",
   "execution_count": 4,
   "metadata": {},
   "outputs": [],
   "source": [
    "def calc_output(W1, W2, x):\n",
    "    v1 = np.matmul(W1, x)\n",
    "    y1 = sigmoid(v1)\n",
    "    v = np.matmul(W2, y1)\n",
    "    y = sigmoid(v)\n",
    "\n",
    "    return y, y1"
   ]
  },
  {
   "cell_type": "code",
   "execution_count": 5,
   "metadata": {},
   "outputs": [],
   "source": [
    "def calcDelta_ce(d, y):\n",
    "    e = d - y\n",
    "    delta = e\n",
    "\n",
    "    return delta"
   ]
  },
  {
   "cell_type": "code",
   "execution_count": 6,
   "metadata": {},
   "outputs": [],
   "source": [
    "def calcDelta1_cd(W2, delta, y1):\n",
    "    e1 = np.matmul(W2.T, delta)\n",
    "    delta1 = y1*(1-y1)*e1\n",
    "\n",
    "    return delta1"
   ]
  },
  {
   "cell_type": "code",
   "execution_count": 7,
   "metadata": {},
   "outputs": [],
   "source": [
    "def BackpropCE(W1, W2, X, D, alpha):\n",
    "    for k in range(4):\n",
    "        x = X[k, :].T\n",
    "        d = D[k]\n",
    "\n",
    "        y, y1 = calc_output(W1, W2, x)\n",
    "        delta = calcDelta_ce(d,y)\n",
    "        delta1 = calcDelta1_cd(W2, delta, y1)\n",
    "\n",
    "        dW1 = (alpha*delta1).reshape(4,1) * x.reshape(1,3)\n",
    "        W1 = W1 + dW1\n",
    "\n",
    "        dW2 = alpha * delta * y1\n",
    "        W2 = W2 + dW2\n",
    "\n",
    "    return W1, W2"
   ]
  },
  {
   "cell_type": "code",
   "execution_count": 13,
   "metadata": {},
   "outputs": [],
   "source": [
    "W1 = 2*np.random.random((4,3)) - 1\n",
    "W2 = 2*np.random.random((1,4)) - 1\n",
    "\n",
    "alpha = 0.9\n",
    "for epoch in range(10000):\n",
    "    W1, W2 = BackpropCE(W1, W2, X, D, alpha =0.9)\n"
   ]
  },
  {
   "cell_type": "code",
   "execution_count": 14,
   "metadata": {},
   "outputs": [
    {
     "name": "stdout",
     "output_type": "stream",
     "text": [
      "[7.71380063e-05]\n",
      "[0.99990192]\n",
      "[0.99989512]\n",
      "[0.00027042]\n"
     ]
    }
   ],
   "source": [
    "N = 4\n",
    "for k in range(N):\n",
    "    x = X[k,:].T\n",
    "    v1 = np.matmul(W1, x)\n",
    "    y1 = sigmoid(v1)\n",
    "    v = np.matmul(W2, y1)\n",
    "    y = sigmoid(v)\n",
    "\n",
    "    print(y)"
   ]
  },
  {
   "cell_type": "code",
   "execution_count": null,
   "metadata": {},
   "outputs": [],
   "source": []
  }
 ],
 "metadata": {
  "kernelspec": {
   "display_name": "Python 3",
   "language": "python",
   "name": "python3"
  },
  "language_info": {
   "codemirror_mode": {
    "name": "ipython",
    "version": 3
   },
   "file_extension": ".py",
   "mimetype": "text/x-python",
   "name": "python",
   "nbconvert_exporter": "python",
   "pygments_lexer": "ipython3",
   "version": "3.11.4"
  }
 },
 "nbformat": 4,
 "nbformat_minor": 2
}
